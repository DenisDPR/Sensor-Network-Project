{
 "cells": [
  {
   "cell_type": "markdown",
   "metadata": {
    "slideshow": {
     "slide_type": "slide"
    }
   },
   "source": [
    "<img src=\"tomato_apple1.png\" style=\"text-align: center;\"><br>\n",
    "<h1 style=\"font-family: Arial; font-size:0.6em;color:purple; text-align: center;font-style:bold\">Denis Pastory</h1>\n",
    "<h1 style=\"font-family: Arial; font-size:0.6em;color:purple; text-align: center;font-style:bold\">Graduate Research Assistant</h1>\n",
    "<h1 style=\"font-family: Arial; font-size:0.6em;color:purple; text-align: center;font-style:bold\">Laboratory of Information Network</h1>\n",
    "<h1 style=\"font-family: Arial; font-size:0.6em;color:purple; text-align: center;font-style:bold\">Tokyo University of Agriculture</h1>\n"
   ]
  },
  {
   "cell_type": "markdown",
   "metadata": {
    "slideshow": {
     "slide_type": "skip"
    }
   },
   "source": [
    "<h1 style=\"font-family: Arial; font-size:2.6em;color:purple; font-style:bold; text-align: center;\"><br>\n",
    "A Real-time Environmental Monitoring and Analysis<br>\n",
    "For a Simplified Smart Agriculture System</h1>\n"
   ]
  },
  {
   "cell_type": "markdown",
   "metadata": {
    "slideshow": {
     "slide_type": "subslide"
    }
   },
   "source": [
    "<h1 style=\"font-family: Arial; font-size:2.65em;color:purple; font-style:bold\">Objective</h1>\n",
    "<p style=\"font-family: Arial; font-size:1.50em;color:#4462C0; font-style:bold\">  \n",
    "    - to show how real-time wireless sensor data is used for crop environment monitoring<br><br>\n",
    "    \n",
    "    - To analyze crop development stages in greenhouse<br><br></p>"
   ]
  },
  {
   "cell_type": "markdown",
   "metadata": {
    "scrolled": false,
    "slideshow": {
     "slide_type": "subslide"
    }
   },
   "source": [
    "<p style=\"font-family: Arial;text-align: center; font-size:1.70em;color:#2462C0; font-style:bold\">Wireless Sensor in Tomato Greenhouse </p>\n",
    "<img src=\"sensor.png\" style=\"width: 800px; height: 500px; padding-left: 6cm;\">"
   ]
  },
  {
   "cell_type": "code",
   "execution_count": 1,
   "metadata": {
    "scrolled": false,
    "slideshow": {
     "slide_type": "skip"
    }
   },
   "outputs": [],
   "source": [
    "import PIL\n",
    "from PIL import Image\n",
    "basewidth = 850\n",
    "img = Image.open('netatmo.png')\n",
    "wpercent = (basewidth / float(img.size[0]))\n",
    "hsize = int((float(img.size[1]) * float(wpercent)))\n",
    "img = img.resize((basewidth, hsize), PIL.Image.ANTIALIAS)\n",
    "img.save('resized_netatmo.png')"
   ]
  },
  {
   "cell_type": "markdown",
   "metadata": {
    "slideshow": {
     "slide_type": "subslide"
    }
   },
   "source": [
    "<p style=\"font-family: Arial;text-align: center; font-size:1.30em;color:#2462C0; font-style:bold\">Wireless Sensor Dashboard </p>\n",
    "<img src=\"resized_netatmo.png\" style=\"width: 950px; height: 500px; padding-left: 7cm;\">"
   ]
  },
  {
   "cell_type": "markdown",
   "metadata": {
    "slideshow": {
     "slide_type": "subslide"
    }
   },
   "source": [
    "<p style=\"font-family: Arial;text-align: center; font-size:1.70em;color:#2462C0; font-style:bold\">Daily Temp Table </p>\n",
    "<img src=\"daily_sensor.png\" style=\"width: 950px; height: 500px; padding-left: 5cm;\">"
   ]
  },
  {
   "cell_type": "markdown",
   "metadata": {
    "slideshow": {
     "slide_type": "slide"
    }
   },
   "source": [
    "<p style=\"font-family: Arial;text-align: center; font-size:1.70em;color:#2462C0; font-style:bold\">Web Database - Daily Activity input</p>\n",
    "<img src=\"web_db.png\" style=\"width: 900px; height: 500px; padding-left: 5cm;\">"
   ]
  },
  {
   "cell_type": "markdown",
   "metadata": {
    "slideshow": {
     "slide_type": "subslide"
    }
   },
   "source": [
    "<p style=\"font-family: Arial;text-align: center; font-size:1.70em;color:#2462C0; font-style:bold\">Distribution of Sensors</p>\n",
    "<img src=\"toguPlan.png\" style=\"width: 950px; height: 600px; padding-left: 5cm;\">"
   ]
  },
  {
   "cell_type": "markdown",
   "metadata": {
    "slideshow": {
     "slide_type": "subslide"
    }
   },
   "source": [
    "<p style=\"font-family: Arial;text-align: center; font-size:1.70em;color:#2462C0; font-style:bold\">Crop calender Table </p>\n",
    "<img src=\"crop_calender1.png\" style=\"width: 950px; height: 500px; padding-left: 5cm;\">"
   ]
  },
  {
   "cell_type": "markdown",
   "metadata": {
    "slideshow": {
     "slide_type": "slide"
    }
   },
   "source": [
    "\n",
    "<h1 style=\"font-family: Arial; font-size:2.65em;color:purple; font-style:bold\">STEPS</h1>\n",
    "<p style=\"font-family: Arial; font-size:1.40em;color:#4462C0; font-style:bold\"> \n",
    "- Load all modules<br>\n",
    "- Get data from  Database<br>\n",
    "- Query specific sensors, Block, specie(varierty)<br>\n",
    "- get df  between specific growth period<br>\n",
    "- Computation of Growing Degree Days (GDD) / cumulative GDD<br>\n",
    "- Plot our results<br>\n",
    "</p>"
   ]
  },
  {
   "cell_type": "markdown",
   "metadata": {
    "slideshow": {
     "slide_type": "slide"
    }
   },
   "source": [
    "## Load all modules "
   ]
  },
  {
   "cell_type": "code",
   "execution_count": 2,
   "metadata": {
    "slideshow": {
     "slide_type": "-"
    }
   },
   "outputs": [],
   "source": [
    "import sys \n",
    "import pymysql\n",
    "import  datetime\n",
    "import numpy as np\n",
    "import pandas as  pd\n",
    "import  datetime as   dt\n",
    "from  calendar import timegm\n",
    "from bokeh.io import export_png\n",
    "from IPython.display import IFrame\n",
    "from   time import  gmtime, strftime\n",
    "from  bokeh.io   import   output_notebook\n",
    "from bokeh.models.widgets import Tabs, Panel\n",
    "from bokeh.layouts import row, column, gridplot\n",
    "from bokeh.plotting import figure, output_file, show\n",
    "from bokeh.models import ColumnDataSource,HoverTool,Range1d"
   ]
  },
  {
   "cell_type": "code",
   "execution_count": 3,
   "metadata": {
    "slideshow": {
     "slide_type": "skip"
    }
   },
   "outputs": [],
   "source": [
    "conn = pymysql.connect(host = 'xxxx', port= xxxx, user ='xxxx', passwd = 'xxxx', db = 'xxxx')\n"
   ]
  },
  {
   "cell_type": "markdown",
   "metadata": {
    "slideshow": {
     "slide_type": "slide"
    }
   },
   "source": [
    "### connect to database\n"
   ]
  },
  {
   "cell_type": "code",
   "execution_count": 4,
   "metadata": {
    "slideshow": {
     "slide_type": "-"
    }
   },
   "outputs": [],
   "source": [
    "cursor1 = conn.cursor()\n",
    "cursor2 = conn.cursor()\n",
    "\n",
    "cursor1.execute('SELECT sdate,ROUND((max_temp+min_temp)/2,1), sensor FROM daily_temp ORDER BY sdate ASC')\n",
    "cursor2.execute('SELECT DISTINCT block,vid,planting, harvesting FROM toguchi_plant WHERE  planting IN (SELECT Planting FROM toguchi_plant) ORDER BY planting DESC')\n",
    "\n",
    "result1 = cursor1.fetchall()\n",
    "result2 = cursor2.fetchall()\n",
    "\n",
    "df1 = pd.DataFrame( [[ij for ij in i] for i in result1] )\n",
    "df2 = pd.DataFrame( [[ij for ij in i] for i in result2] )\n",
    "\n",
    "df1.rename(columns={0: 'Date', 1:'Mean_T', 2:'sensor'}, inplace=True);\n",
    "df2.rename(columns={0: 'block', 1: 'vid', 2: 'startPlant', 3: 'startHarv'}, inplace=True);\n",
    "if cursor1 and conn:\n",
    "    cursor1.close()\n",
    "if cursor2 and conn:\n",
    "    cursor2.close()\n",
    "    conn.close()    "
   ]
  },
  {
   "cell_type": "markdown",
   "metadata": {
    "slideshow": {
     "slide_type": "slide"
    }
   },
   "source": [
    "### let's view our data"
   ]
  },
  {
   "cell_type": "code",
   "execution_count": 5,
   "metadata": {
    "slideshow": {
     "slide_type": "-"
    }
   },
   "outputs": [
    {
     "data": {
      "text/html": [
       "<div>\n",
       "<style>\n",
       "    .dataframe thead tr:only-child th {\n",
       "        text-align: right;\n",
       "    }\n",
       "\n",
       "    .dataframe thead th {\n",
       "        text-align: left;\n",
       "    }\n",
       "\n",
       "    .dataframe tbody tr th {\n",
       "        vertical-align: top;\n",
       "    }\n",
       "</style>\n",
       "<table border=\"1\" class=\"dataframe\">\n",
       "  <thead>\n",
       "    <tr style=\"text-align: right;\">\n",
       "      <th></th>\n",
       "      <th>block</th>\n",
       "      <th>vid</th>\n",
       "      <th>startPlant</th>\n",
       "      <th>startHarv</th>\n",
       "    </tr>\n",
       "  </thead>\n",
       "  <tbody>\n",
       "    <tr>\n",
       "      <th>0</th>\n",
       "      <td>C</td>\n",
       "      <td>v1</td>\n",
       "      <td>2017-07-18</td>\n",
       "      <td>2017-09-18</td>\n",
       "    </tr>\n",
       "    <tr>\n",
       "      <th>1</th>\n",
       "      <td>D</td>\n",
       "      <td>v1</td>\n",
       "      <td>2017-05-26</td>\n",
       "      <td>2017-07-25</td>\n",
       "    </tr>\n",
       "    <tr>\n",
       "      <th>2</th>\n",
       "      <td>A</td>\n",
       "      <td>v2</td>\n",
       "      <td>2017-04-27</td>\n",
       "      <td>2017-06-19</td>\n",
       "    </tr>\n",
       "    <tr>\n",
       "      <th>3</th>\n",
       "      <td>E</td>\n",
       "      <td>v1</td>\n",
       "      <td>2017-03-17</td>\n",
       "      <td>None</td>\n",
       "    </tr>\n",
       "    <tr>\n",
       "      <th>4</th>\n",
       "      <td>F</td>\n",
       "      <td>v1</td>\n",
       "      <td>2017-02-21</td>\n",
       "      <td>2017-05-08</td>\n",
       "    </tr>\n",
       "  </tbody>\n",
       "</table>\n",
       "</div>"
      ],
      "text/plain": [
       "  block vid  startPlant   startHarv\n",
       "0     C  v1  2017-07-18  2017-09-18\n",
       "1     D  v1  2017-05-26  2017-07-25\n",
       "2     A  v2  2017-04-27  2017-06-19\n",
       "3     E  v1  2017-03-17        None\n",
       "4     F  v1  2017-02-21  2017-05-08"
      ]
     },
     "execution_count": 5,
     "metadata": {},
     "output_type": "execute_result"
    }
   ],
   "source": [
    "df2.head()"
   ]
  },
  {
   "cell_type": "code",
   "execution_count": 6,
   "metadata": {
    "slideshow": {
     "slide_type": "-"
    }
   },
   "outputs": [
    {
     "data": {
      "text/html": [
       "<div>\n",
       "<style>\n",
       "    .dataframe thead tr:only-child th {\n",
       "        text-align: right;\n",
       "    }\n",
       "\n",
       "    .dataframe thead th {\n",
       "        text-align: left;\n",
       "    }\n",
       "\n",
       "    .dataframe tbody tr th {\n",
       "        vertical-align: top;\n",
       "    }\n",
       "</style>\n",
       "<table border=\"1\" class=\"dataframe\">\n",
       "  <thead>\n",
       "    <tr style=\"text-align: right;\">\n",
       "      <th></th>\n",
       "      <th>Date</th>\n",
       "      <th>Mean_T</th>\n",
       "      <th>sensor</th>\n",
       "    </tr>\n",
       "  </thead>\n",
       "  <tbody>\n",
       "    <tr>\n",
       "      <th>0</th>\n",
       "      <td>2017-04-28</td>\n",
       "      <td>23.2</td>\n",
       "      <td>02:00:00:28:8c:e6</td>\n",
       "    </tr>\n",
       "    <tr>\n",
       "      <th>1</th>\n",
       "      <td>2017-04-28</td>\n",
       "      <td>23.2</td>\n",
       "      <td>03:00:00:02:c5:f8</td>\n",
       "    </tr>\n",
       "    <tr>\n",
       "      <th>2</th>\n",
       "      <td>2017-04-28</td>\n",
       "      <td>23.2</td>\n",
       "      <td>03:00:00:05:05:30</td>\n",
       "    </tr>\n",
       "    <tr>\n",
       "      <th>3</th>\n",
       "      <td>2017-04-29</td>\n",
       "      <td>21.9</td>\n",
       "      <td>02:00:00:28:8c:e6</td>\n",
       "    </tr>\n",
       "    <tr>\n",
       "      <th>4</th>\n",
       "      <td>2017-04-29</td>\n",
       "      <td>21.9</td>\n",
       "      <td>03:00:00:02:c5:f8</td>\n",
       "    </tr>\n",
       "  </tbody>\n",
       "</table>\n",
       "</div>"
      ],
      "text/plain": [
       "         Date  Mean_T             sensor\n",
       "0  2017-04-28    23.2  02:00:00:28:8c:e6\n",
       "1  2017-04-28    23.2  03:00:00:02:c5:f8\n",
       "2  2017-04-28    23.2  03:00:00:05:05:30\n",
       "3  2017-04-29    21.9  02:00:00:28:8c:e6\n",
       "4  2017-04-29    21.9  03:00:00:02:c5:f8"
      ]
     },
     "execution_count": 6,
     "metadata": {},
     "output_type": "execute_result"
    }
   ],
   "source": [
    "df1.head()"
   ]
  },
  {
   "cell_type": "markdown",
   "metadata": {
    "slideshow": {
     "slide_type": "slide"
    }
   },
   "source": [
    "### Query Specific Sensor in Block"
   ]
  },
  {
   "cell_type": "code",
   "execution_count": 7,
   "metadata": {
    "slideshow": {
     "slide_type": "-"
    }
   },
   "outputs": [],
   "source": [
    "df2_A = df2.query('block == \"A\" & vid == \"v2\"')\n",
    "clean_df2_A = df2_A.drop(['block','vid'], 1)\n",
    "df1_A = df1.query('sensor == \"02:00:00:28:8c:e6\"')\n",
    "clean_df1_A = df1_A.drop('sensor',1)\n",
    "\n",
    "df2_C = df2.query('block == \"C\" & vid == \"v1\"')\n",
    "clean_df2_C = df2_C.drop(['block','vid'], 1)\n",
    "df1_C= df1.query('sensor == \"03:00:00:05:05:30\"')\n",
    "clean_df1_C = df1_C.drop('sensor',1)\n",
    "\n",
    "df2_D = df2.query('block == \"D\" & vid == \"v1\"')\n",
    "clean_df2_D = df2_D.drop(['block','vid'], 1)\n",
    "df1_D = df1.query('sensor == \"03:00:00:02:c5:f8\"')\n",
    "clean_df1_D = df1_D.drop('sensor',1)"
   ]
  },
  {
   "cell_type": "code",
   "execution_count": 8,
   "metadata": {
    "slideshow": {
     "slide_type": "subslide"
    }
   },
   "outputs": [
    {
     "data": {
      "text/html": [
       "<div>\n",
       "<style>\n",
       "    .dataframe thead tr:only-child th {\n",
       "        text-align: right;\n",
       "    }\n",
       "\n",
       "    .dataframe thead th {\n",
       "        text-align: left;\n",
       "    }\n",
       "\n",
       "    .dataframe tbody tr th {\n",
       "        vertical-align: top;\n",
       "    }\n",
       "</style>\n",
       "<table border=\"1\" class=\"dataframe\">\n",
       "  <thead>\n",
       "    <tr style=\"text-align: right;\">\n",
       "      <th></th>\n",
       "      <th>startPlant</th>\n",
       "      <th>startHarv</th>\n",
       "    </tr>\n",
       "  </thead>\n",
       "  <tbody>\n",
       "    <tr>\n",
       "      <th>0</th>\n",
       "      <td>2017-07-18</td>\n",
       "      <td>2017-09-18</td>\n",
       "    </tr>\n",
       "    <tr>\n",
       "      <th>7</th>\n",
       "      <td>2012-08-16</td>\n",
       "      <td>None</td>\n",
       "    </tr>\n",
       "    <tr>\n",
       "      <th>18</th>\n",
       "      <td>None</td>\n",
       "      <td>2010-03-16</td>\n",
       "    </tr>\n",
       "  </tbody>\n",
       "</table>\n",
       "</div>"
      ],
      "text/plain": [
       "    startPlant   startHarv\n",
       "0   2017-07-18  2017-09-18\n",
       "7   2012-08-16        None\n",
       "18        None  2010-03-16"
      ]
     },
     "execution_count": 8,
     "metadata": {},
     "output_type": "execute_result"
    }
   ],
   "source": [
    "clean_df2_C.head()"
   ]
  },
  {
   "cell_type": "code",
   "execution_count": 9,
   "metadata": {
    "slideshow": {
     "slide_type": "-"
    }
   },
   "outputs": [
    {
     "data": {
      "text/html": [
       "<div>\n",
       "<style>\n",
       "    .dataframe thead tr:only-child th {\n",
       "        text-align: right;\n",
       "    }\n",
       "\n",
       "    .dataframe thead th {\n",
       "        text-align: left;\n",
       "    }\n",
       "\n",
       "    .dataframe tbody tr th {\n",
       "        vertical-align: top;\n",
       "    }\n",
       "</style>\n",
       "<table border=\"1\" class=\"dataframe\">\n",
       "  <thead>\n",
       "    <tr style=\"text-align: right;\">\n",
       "      <th></th>\n",
       "      <th>Date</th>\n",
       "      <th>Mean_T</th>\n",
       "    </tr>\n",
       "  </thead>\n",
       "  <tbody>\n",
       "    <tr>\n",
       "      <th>0</th>\n",
       "      <td>2017-04-28</td>\n",
       "      <td>23.2</td>\n",
       "    </tr>\n",
       "    <tr>\n",
       "      <th>3</th>\n",
       "      <td>2017-04-29</td>\n",
       "      <td>21.9</td>\n",
       "    </tr>\n",
       "    <tr>\n",
       "      <th>6</th>\n",
       "      <td>2017-04-30</td>\n",
       "      <td>23.9</td>\n",
       "    </tr>\n",
       "    <tr>\n",
       "      <th>9</th>\n",
       "      <td>2017-05-01</td>\n",
       "      <td>24.8</td>\n",
       "    </tr>\n",
       "    <tr>\n",
       "      <th>12</th>\n",
       "      <td>2017-05-02</td>\n",
       "      <td>23.1</td>\n",
       "    </tr>\n",
       "  </tbody>\n",
       "</table>\n",
       "</div>"
      ],
      "text/plain": [
       "          Date  Mean_T\n",
       "0   2017-04-28    23.2\n",
       "3   2017-04-29    21.9\n",
       "6   2017-04-30    23.9\n",
       "9   2017-05-01    24.8\n",
       "12  2017-05-02    23.1"
      ]
     },
     "execution_count": 9,
     "metadata": {},
     "output_type": "execute_result"
    }
   ],
   "source": [
    "clean_df1_A.head()"
   ]
  },
  {
   "cell_type": "markdown",
   "metadata": {
    "slideshow": {
     "slide_type": "slide"
    }
   },
   "source": [
    "### ...now get df between certain growth period"
   ]
  },
  {
   "cell_type": "code",
   "execution_count": 10,
   "metadata": {
    "slideshow": {
     "slide_type": "-"
    }
   },
   "outputs": [],
   "source": [
    "def df1_df2(df11,df22):\n",
    "    \"\"\"\n",
    "    Take in two dataframes, from df22 we get the start and end date for date range. \n",
    "    The date range will get a complete df from df11\n",
    "    \"\"\"\n",
    "    startHarv_A= df22['startPlant'].iloc[0]\n",
    "    endHarv = dt.date.today()  \n",
    "    \n",
    "    full_range = pd.date_range(startHarv_A, endHarv)\n",
    "\n",
    "    df11.set_index(['Date'], inplace=True)\n",
    "    df_complete = df11.sort_index().reindex(full_range).interpolate(method='linear')\n",
    "    return df_complete"
   ]
  },
  {
   "cell_type": "code",
   "execution_count": 11,
   "metadata": {
    "slideshow": {
     "slide_type": "-"
    }
   },
   "outputs": [
    {
     "data": {
      "text/html": [
       "<div>\n",
       "<style>\n",
       "    .dataframe thead tr:only-child th {\n",
       "        text-align: right;\n",
       "    }\n",
       "\n",
       "    .dataframe thead th {\n",
       "        text-align: left;\n",
       "    }\n",
       "\n",
       "    .dataframe tbody tr th {\n",
       "        vertical-align: top;\n",
       "    }\n",
       "</style>\n",
       "<table border=\"1\" class=\"dataframe\">\n",
       "  <thead>\n",
       "    <tr style=\"text-align: right;\">\n",
       "      <th></th>\n",
       "      <th>Mean_T</th>\n",
       "    </tr>\n",
       "  </thead>\n",
       "  <tbody>\n",
       "    <tr>\n",
       "      <th>2017-07-18</th>\n",
       "      <td>28.5</td>\n",
       "    </tr>\n",
       "    <tr>\n",
       "      <th>2017-07-19</th>\n",
       "      <td>29.8</td>\n",
       "    </tr>\n",
       "    <tr>\n",
       "      <th>2017-07-20</th>\n",
       "      <td>28.9</td>\n",
       "    </tr>\n",
       "    <tr>\n",
       "      <th>2017-07-21</th>\n",
       "      <td>30.5</td>\n",
       "    </tr>\n",
       "    <tr>\n",
       "      <th>2017-07-22</th>\n",
       "      <td>30.6</td>\n",
       "    </tr>\n",
       "  </tbody>\n",
       "</table>\n",
       "</div>"
      ],
      "text/plain": [
       "            Mean_T\n",
       "2017-07-18    28.5\n",
       "2017-07-19    29.8\n",
       "2017-07-20    28.9\n",
       "2017-07-21    30.5\n",
       "2017-07-22    30.6"
      ]
     },
     "execution_count": 11,
     "metadata": {},
     "output_type": "execute_result"
    }
   ],
   "source": [
    "df_intepl = df1_df2(clean_df1_A,clean_df2_A)\n",
    "df_intep3 = df1_df2(clean_df1_C,clean_df2_C)\n",
    "df_intep4 = df1_df2(clean_df1_D,clean_df2_D)\n",
    "df_intep3.head()"
   ]
  },
  {
   "cell_type": "markdown",
   "metadata": {
    "slideshow": {
     "slide_type": "slide"
    }
   },
   "source": [
    "<p style=\"font-family: Arial; font-size:2.5em;color:purple; text-align: center;font-style:bold\">Growing Degree Days</p>\n",
    "<h2 style=\"font-family: Arial; font-size:1.7em;color:#2462C0; font-style:bold;text-align: center;\">  \n",
    "GDD are typically used to monitor crop development,the assumption being \n",
    "that development is limited once the temperatures exceed a certain threshold<br></h2>\n"
   ]
  },
  {
   "cell_type": "markdown",
   "metadata": {
    "slideshow": {
     "slide_type": "subslide"
    }
   },
   "source": [
    "<p style=\"font-family: Arial; font-size:2.9em;color:purple; text-align: center;font-style:bold\">Growing Degree Days</p>\n",
    "<img src=\"gdd1.png\" style=\"width: 800px; height: 300px; padding-left: 5cm;\">"
   ]
  },
  {
   "cell_type": "markdown",
   "metadata": {
    "slideshow": {
     "slide_type": "slide"
    }
   },
   "source": [
    "### Computation of GDD"
   ]
  },
  {
   "cell_type": "code",
   "execution_count": 12,
   "metadata": {
    "slideshow": {
     "slide_type": "-"
    }
   },
   "outputs": [],
   "source": [
    "# Function to Calculte GDD (Growing Degree Degree)\n",
    "def compute_gdd (Tmean,Tbase=10.0):\n",
    "    \"\"\"\n",
    "    Growing Degree Days (GDD) calculation based on reference \n",
    "    Temp of 10 Deg.Celsius Tmean = (Tmax + Tmin)/2\n",
    "    \n",
    "    \"\"\"\n",
    "    if Tbase <= Tmean:\n",
    "        return ((Tmean-Tbase))\n",
    "    else:\n",
    "        return (0)"
   ]
  },
  {
   "cell_type": "code",
   "execution_count": 13,
   "metadata": {
    "slideshow": {
     "slide_type": "-"
    }
   },
   "outputs": [],
   "source": [
    "df_intepl['GDD'] = df_intepl.apply(lambda row: compute_gdd(row['Mean_T']),axis=1)\n",
    "df_intep3['GDD'] = df_intep3.apply(lambda row: compute_gdd(row['Mean_T']),axis=1)\n",
    "df_intep4['GDD'] = df_intep4.apply(lambda row: compute_gdd(row['Mean_T']),axis=1)"
   ]
  },
  {
   "cell_type": "markdown",
   "metadata": {
    "slideshow": {
     "slide_type": "slide"
    }
   },
   "source": [
    "### Computation of cumulative GDD"
   ]
  },
  {
   "cell_type": "code",
   "execution_count": 14,
   "metadata": {
    "slideshow": {
     "slide_type": "-"
    }
   },
   "outputs": [],
   "source": [
    "#Function to calculate Cumulative GDD\n",
    "def full_df(df22):\n",
    "    \"\"\"\n",
    "    Takes in a df, reset its index and them calculates \n",
    "    the cumulative GDD\n",
    "    \n",
    "    \"\"\"\n",
    "    df22 = df22.reset_index(drop=False)\n",
    "    df22['Cum_GDD'] = df22.GDD.cumsum()\n",
    "    df = df22\n",
    "    return df"
   ]
  },
  {
   "cell_type": "code",
   "execution_count": 15,
   "metadata": {
    "slideshow": {
     "slide_type": "-"
    }
   },
   "outputs": [],
   "source": [
    "dfA = full_df(df_intepl)\n",
    "dfC = full_df(df_intep3)\n",
    "dfD = full_df(df_intep4)"
   ]
  },
  {
   "cell_type": "code",
   "execution_count": 16,
   "metadata": {
    "slideshow": {
     "slide_type": "-"
    }
   },
   "outputs": [
    {
     "data": {
      "text/html": [
       "<div>\n",
       "<style>\n",
       "    .dataframe thead tr:only-child th {\n",
       "        text-align: right;\n",
       "    }\n",
       "\n",
       "    .dataframe thead th {\n",
       "        text-align: left;\n",
       "    }\n",
       "\n",
       "    .dataframe tbody tr th {\n",
       "        vertical-align: top;\n",
       "    }\n",
       "</style>\n",
       "<table border=\"1\" class=\"dataframe\">\n",
       "  <thead>\n",
       "    <tr style=\"text-align: right;\">\n",
       "      <th></th>\n",
       "      <th>index</th>\n",
       "      <th>Mean_T</th>\n",
       "      <th>GDD</th>\n",
       "      <th>Cum_GDD</th>\n",
       "    </tr>\n",
       "  </thead>\n",
       "  <tbody>\n",
       "    <tr>\n",
       "      <th>0</th>\n",
       "      <td>2017-07-18</td>\n",
       "      <td>28.5</td>\n",
       "      <td>18.5</td>\n",
       "      <td>18.5</td>\n",
       "    </tr>\n",
       "    <tr>\n",
       "      <th>1</th>\n",
       "      <td>2017-07-19</td>\n",
       "      <td>29.8</td>\n",
       "      <td>19.8</td>\n",
       "      <td>38.3</td>\n",
       "    </tr>\n",
       "    <tr>\n",
       "      <th>2</th>\n",
       "      <td>2017-07-20</td>\n",
       "      <td>28.9</td>\n",
       "      <td>18.9</td>\n",
       "      <td>57.2</td>\n",
       "    </tr>\n",
       "    <tr>\n",
       "      <th>3</th>\n",
       "      <td>2017-07-21</td>\n",
       "      <td>30.5</td>\n",
       "      <td>20.5</td>\n",
       "      <td>77.7</td>\n",
       "    </tr>\n",
       "    <tr>\n",
       "      <th>4</th>\n",
       "      <td>2017-07-22</td>\n",
       "      <td>30.6</td>\n",
       "      <td>20.6</td>\n",
       "      <td>98.3</td>\n",
       "    </tr>\n",
       "  </tbody>\n",
       "</table>\n",
       "</div>"
      ],
      "text/plain": [
       "       index  Mean_T   GDD  Cum_GDD\n",
       "0 2017-07-18    28.5  18.5     18.5\n",
       "1 2017-07-19    29.8  19.8     38.3\n",
       "2 2017-07-20    28.9  18.9     57.2\n",
       "3 2017-07-21    30.5  20.5     77.7\n",
       "4 2017-07-22    30.6  20.6     98.3"
      ]
     },
     "execution_count": 16,
     "metadata": {},
     "output_type": "execute_result"
    }
   ],
   "source": [
    "dfC.head()"
   ]
  },
  {
   "cell_type": "markdown",
   "metadata": {
    "slideshow": {
     "slide_type": "slide"
    }
   },
   "source": [
    "#### Plotting results - Bokeh Library"
   ]
  },
  {
   "cell_type": "code",
   "execution_count": 17,
   "metadata": {
    "slideshow": {
     "slide_type": "-"
    }
   },
   "outputs": [],
   "source": [
    "def plotTab(df,k):\n",
    "    Date = df.index\n",
    "    GDD = df.GDD\n",
    "    Cum_GDD = df.Cum_GDD\n",
    "    source = ColumnDataSource(data=dict(GDD=GDD,Cum_GDD=Cum_GDD,\n",
    "                                        Date = pd.to_datetime(df['index'], format='%Y-%m-%d'),)\n",
    "                             )\n",
    "    source.add(df['index'].apply(lambda d: d.strftime('%Y-%m-%d')), 'date_formatted') # see line 18\n",
    "    hover = HoverTool(\n",
    "        tooltips=\"\"\"\n",
    "             <div style=\"background: #FFFFFF;\">\n",
    "                <span style=\"font-size: 20px; color: blue;\"> cumulative GDD, @Cum_GDD{int}</span><br />\n",
    "                <span style=\"font-size: 15px; color: green;\"> DATE, @date_formatted</span><br />\n",
    "            </div>\n",
    "        \"\"\")  \n",
    "    p = figure(x_axis_label='DATE', x_axis_type='datetime',y_axis_label='CUMULATIVE GDD',\n",
    "                background_fill_color='#D1D1D8',tools=[hover, 'xpan','reset','previewsave'],plot_height=470,\n",
    "                logo=None)\n",
    "    p.line(x='Date', y='Cum_GDD',source=source,line_width=2,line_color=\"blue\")\n",
    "    p.circle('Date','Cum_GDD',source=source)\n",
    "    p.xaxis.axis_label_text_font_size = \"20pt\"\n",
    "    p.yaxis.axis_label_text_font_size = \"20pt\"\n",
    "    tab = Panel(child=p, title= k)\n",
    "    return tab"
   ]
  },
  {
   "cell_type": "markdown",
   "metadata": {
    "slideshow": {
     "slide_type": "subslide"
    }
   },
   "source": [
    "## combine cumulative GDD into one plot"
   ]
  },
  {
   "cell_type": "code",
   "execution_count": 23,
   "metadata": {
    "slideshow": {
     "slide_type": "-"
    }
   },
   "outputs": [
    {
     "data": {
      "text/html": [
       "\n",
       "<div class=\"bk-root\">\n",
       "    <div class=\"bk-plotdiv\" id=\"b677bbe3-6233-4008-a818-ec06619df825\"></div>\n",
       "</div>"
      ]
     },
     "metadata": {},
     "output_type": "display_data"
    },
    {
     "data": {
      "application/javascript": [
       "(function(root) {\n",
       "  function embed_document(root) {\n",
       "    var docs_json = {\"f11c8640-d82e-4d49-ac8e-b978cc23c712\":{\"roots\":{\"references\":[{\"attributes\":{\"dimensions\":\"width\"},\"id\":\"3d109cfb-5ae7-4730-a14a-5e0d05d4bc85\",\"type\":\"PanTool\"},{\"attributes\":{\"background_fill_color\":{\"value\":\"#D1D1D8\"},\"below\":[{\"id\":\"0bfe2037-1441-45e2-9018-bc6df9784bbf\",\"type\":\"DatetimeAxis\"}],\"left\":[{\"id\":\"215e0122-b854-4aae-b3f5-48def892b69e\",\"type\":\"LinearAxis\"}],\"plot_height\":470,\"renderers\":[{\"id\":\"0bfe2037-1441-45e2-9018-bc6df9784bbf\",\"type\":\"DatetimeAxis\"},{\"id\":\"7d074937-6bb3-49ab-a39b-4696862e9269\",\"type\":\"Grid\"},{\"id\":\"215e0122-b854-4aae-b3f5-48def892b69e\",\"type\":\"LinearAxis\"},{\"id\":\"d89d5a9b-97b3-4640-8d49-26ceef066d3c\",\"type\":\"Grid\"},{\"id\":\"20ff79df-564b-4cc7-8bba-8eec48d3f209\",\"type\":\"GlyphRenderer\"},{\"id\":\"7ccf1213-2399-4b80-a66b-a4fd2f0e0f32\",\"type\":\"GlyphRenderer\"}],\"title\":{\"id\":\"05d730ca-77d7-4911-94a5-a41957626fd1\",\"type\":\"Title\"},\"toolbar\":{\"id\":\"0da8ca67-abc9-4e33-8f69-eefa052f97ef\",\"type\":\"Toolbar\"},\"x_range\":{\"id\":\"369dae3e-40a9-4379-af52-face92b1744f\",\"type\":\"DataRange1d\"},\"x_scale\":{\"id\":\"77dc3ffa-a10c-4f40-b96f-107bbe11dd51\",\"type\":\"LinearScale\"},\"y_range\":{\"id\":\"47922452-70be-4969-a048-1fbf2746504f\",\"type\":\"DataRange1d\"},\"y_scale\":{\"id\":\"790dc236-1284-4058-80a8-d6169ade818c\",\"type\":\"LinearScale\"}},\"id\":\"30117e2d-e3ed-4405-b755-759eecb24fc4\",\"subtype\":\"Figure\",\"type\":\"Plot\"},{\"attributes\":{\"active_drag\":\"auto\",\"active_inspect\":\"auto\",\"active_scroll\":\"auto\",\"active_tap\":\"auto\",\"logo\":null,\"tools\":[{\"id\":\"53f04309-5519-419f-ac2a-6206ef3d08c6\",\"type\":\"HoverTool\"},{\"id\":\"3d109cfb-5ae7-4730-a14a-5e0d05d4bc85\",\"type\":\"PanTool\"},{\"id\":\"475382ab-5d0b-4f59-88bf-6cb1f7f7d321\",\"type\":\"ResetTool\"},{\"id\":\"ce46c96d-7079-40d3-8249-d164bb7a5a8d\",\"type\":\"SaveTool\"}]},\"id\":\"274fcf91-1c35-42d7-a4f8-1ff8d621a796\",\"type\":\"Toolbar\"},{\"attributes\":{\"data_source\":{\"id\":\"245254c5-ade6-4eba-b9c3-d61fc55288ae\",\"type\":\"ColumnDataSource\"},\"glyph\":{\"id\":\"4196df67-6677-4541-9cdd-a0bbac39e7cb\",\"type\":\"Line\"},\"hover_glyph\":null,\"muted_glyph\":null,\"nonselection_glyph\":{\"id\":\"0376eab4-ae6a-45df-9393-fb0d77a8ee07\",\"type\":\"Line\"},\"selection_glyph\":null,\"view\":{\"id\":\"1c840cdc-50ba-4cc3-aa35-53404f0fcb0b\",\"type\":\"CDSView\"}},\"id\":\"f546870b-8591-4c9e-a340-0facdfeb0eb3\",\"type\":\"GlyphRenderer\"},{\"attributes\":{\"source\":{\"id\":\"2b09afd2-49ce-4798-a824-35c45d88ac0a\",\"type\":\"ColumnDataSource\"}},\"id\":\"b804ac12-5746-4dc5-ac23-0ed94756056a\",\"type\":\"CDSView\"},{\"attributes\":{\"days\":[1,15]},\"id\":\"9214c5d0-e850-4489-800b-d2b842101ba2\",\"type\":\"DaysTicker\"},{\"attributes\":{\"line_color\":{\"value\":\"blue\"},\"line_width\":{\"value\":2},\"x\":{\"field\":\"Date\"},\"y\":{\"field\":\"Cum_GDD\"}},\"id\":\"4102d631-ce1a-4d4e-b363-ea5b25cdb248\",\"type\":\"Line\"},{\"attributes\":{},\"id\":\"e2eb4d9b-7b95-407e-9734-cbee4b8e1f18\",\"type\":\"SaveTool\"},{\"attributes\":{\"base\":24,\"mantissas\":[1,2,4,6,8,12],\"max_interval\":43200000.0,\"min_interval\":3600000.0,\"num_minor_ticks\":0},\"id\":\"b8b92941-9e8e-4aa9-9fae-19c0ed598e6e\",\"type\":\"AdaptiveTicker\"},{\"attributes\":{\"base\":60,\"mantissas\":[1,2,5,10,15,20,30],\"max_interval\":1800000.0,\"min_interval\":1000.0,\"num_minor_ticks\":0},\"id\":\"6e61d689-c93b-4749-8522-736deb78fb23\",\"type\":\"AdaptiveTicker\"},{\"attributes\":{\"months\":[0,2,4,6,8,10]},\"id\":\"1afca64a-6914-42ab-8615-b5c526ca606a\",\"type\":\"MonthsTicker\"},{\"attributes\":{\"days\":[1,8,15,22]},\"id\":\"99d4bba2-422e-433b-94b2-15dfa2ff3291\",\"type\":\"DaysTicker\"},{\"attributes\":{},\"id\":\"79f1936f-c67c-4ca1-883b-3785af130c7e\",\"type\":\"LinearScale\"},{\"attributes\":{\"dimension\":1,\"plot\":{\"id\":\"8d5bed55-f1da-48fa-9aa7-b81c1c86c4e2\",\"subtype\":\"Figure\",\"type\":\"Plot\"},\"ticker\":{\"id\":\"effddb24-0788-482e-9757-5caf25045bbe\",\"type\":\"BasicTicker\"}},\"id\":\"0255d5b8-31f1-4b54-a83f-d59172ba98a2\",\"type\":\"Grid\"},{\"attributes\":{\"plot\":null,\"text\":\"\"},\"id\":\"46eeb648-2c76-4d71-8691-18a0db8da4f5\",\"type\":\"Title\"},{\"attributes\":{\"dimensions\":\"width\"},\"id\":\"d2646e0c-176b-43d8-a606-f5657b0cb7fd\",\"type\":\"PanTool\"},{\"attributes\":{\"months\":[0,4,8]},\"id\":\"b37aa2be-2120-4523-ab3c-337a881824ee\",\"type\":\"MonthsTicker\"},{\"attributes\":{\"base\":60,\"mantissas\":[1,2,5,10,15,20,30],\"max_interval\":1800000.0,\"min_interval\":1000.0,\"num_minor_ticks\":0},\"id\":\"9f57a4fb-0b9e-4540-9041-244b08feb14b\",\"type\":\"AdaptiveTicker\"},{\"attributes\":{\"line_alpha\":{\"value\":0.1},\"line_color\":{\"value\":\"#1f77b4\"},\"line_width\":{\"value\":2},\"x\":{\"field\":\"Date\"},\"y\":{\"field\":\"Cum_GDD\"}},\"id\":\"54366d5c-90d2-4e58-8713-6263b70c66b9\",\"type\":\"Line\"},{\"attributes\":{},\"id\":\"3f040d07-170a-4659-a689-8b36f1cb6d55\",\"type\":\"LinearScale\"},{\"attributes\":{\"days\":[1,8,15,22]},\"id\":\"794417ca-7de3-457c-93fd-56a539838cfd\",\"type\":\"DaysTicker\"},{\"attributes\":{\"axis_label\":\"DATE\",\"axis_label_text_font_size\":{\"value\":\"20pt\"},\"formatter\":{\"id\":\"1e781d1d-01a5-40d0-821f-6ddfab83b78b\",\"type\":\"DatetimeTickFormatter\"},\"plot\":{\"id\":\"8d5bed55-f1da-48fa-9aa7-b81c1c86c4e2\",\"subtype\":\"Figure\",\"type\":\"Plot\"},\"ticker\":{\"id\":\"745f7544-cf81-4dac-a218-857b1615c838\",\"type\":\"DatetimeTicker\"}},\"id\":\"6d498a1c-19c2-4b67-83ad-f5989a044444\",\"type\":\"DatetimeAxis\"},{\"attributes\":{\"num_minor_ticks\":5,\"tickers\":[{\"id\":\"b4d6dc72-f5fb-464a-8827-92ce557b43c5\",\"type\":\"AdaptiveTicker\"},{\"id\":\"ee54eafd-ff03-4101-8737-22fb6f4c139a\",\"type\":\"AdaptiveTicker\"},{\"id\":\"277d1c1f-62ea-45eb-965a-43d1d0ec1964\",\"type\":\"AdaptiveTicker\"},{\"id\":\"5f1acb0b-75aa-4e13-80bf-aa219f25da80\",\"type\":\"DaysTicker\"},{\"id\":\"09638442-ba03-4151-b481-0112a5ee0920\",\"type\":\"DaysTicker\"},{\"id\":\"d5aada4c-1701-4f46-87e0-f55de654f5c4\",\"type\":\"DaysTicker\"},{\"id\":\"9214c5d0-e850-4489-800b-d2b842101ba2\",\"type\":\"DaysTicker\"},{\"id\":\"23728be3-6b44-4239-bcc0-a0235c448719\",\"type\":\"MonthsTicker\"},{\"id\":\"5ca4d545-5dc6-4fec-a5e9-5781b3c204b5\",\"type\":\"MonthsTicker\"},{\"id\":\"b37aa2be-2120-4523-ab3c-337a881824ee\",\"type\":\"MonthsTicker\"},{\"id\":\"ad9f50da-fc3e-4f41-af55-135641e9c820\",\"type\":\"MonthsTicker\"},{\"id\":\"9254c9ef-9f80-40dd-85b5-430760e391e3\",\"type\":\"YearsTicker\"}]},\"id\":\"745f7544-cf81-4dac-a218-857b1615c838\",\"type\":\"DatetimeTicker\"},{\"attributes\":{\"callback\":null,\"tooltips\":\"\\n             <div style=\\\"background: #FFFFFF;\\\">\\n                <span style=\\\"font-size: 20px; color: blue;\\\"> cumulative GDD, @Cum_GDD{int}</span><br />\\n                <span style=\\\"font-size: 15px; color: green;\\\"> DATE, @date_formatted</span><br />\\n            </div>\\n        \"},\"id\":\"e55ac075-92ae-46f3-b481-efe3ba1af5f1\",\"type\":\"HoverTool\"},{\"attributes\":{\"fill_alpha\":{\"value\":0.1},\"fill_color\":{\"value\":\"#1f77b4\"},\"line_alpha\":{\"value\":0.1},\"line_color\":{\"value\":\"#1f77b4\"},\"x\":{\"field\":\"Date\"},\"y\":{\"field\":\"Cum_GDD\"}},\"id\":\"c2d14708-12f9-4ff9-91b7-dc9116d791b1\",\"type\":\"Circle\"},{\"attributes\":{\"background_fill_color\":{\"value\":\"#D1D1D8\"},\"below\":[{\"id\":\"6d498a1c-19c2-4b67-83ad-f5989a044444\",\"type\":\"DatetimeAxis\"}],\"left\":[{\"id\":\"5c9e51b9-c924-49d1-9473-fbb4cae6ea4e\",\"type\":\"LinearAxis\"}],\"plot_height\":470,\"renderers\":[{\"id\":\"6d498a1c-19c2-4b67-83ad-f5989a044444\",\"type\":\"DatetimeAxis\"},{\"id\":\"55367df3-e69d-413e-b2c9-01c1452f71f9\",\"type\":\"Grid\"},{\"id\":\"5c9e51b9-c924-49d1-9473-fbb4cae6ea4e\",\"type\":\"LinearAxis\"},{\"id\":\"0255d5b8-31f1-4b54-a83f-d59172ba98a2\",\"type\":\"Grid\"},{\"id\":\"13d10530-3057-4388-b1ed-aaac20673c4a\",\"type\":\"GlyphRenderer\"},{\"id\":\"409d0afc-7004-4896-b957-ce6ac2899681\",\"type\":\"GlyphRenderer\"}],\"title\":{\"id\":\"c8c9dd94-172d-4688-bf2a-b82e7883044f\",\"type\":\"Title\"},\"toolbar\":{\"id\":\"4b05bb84-6594-48a2-803b-d011441b9d5f\",\"type\":\"Toolbar\"},\"x_range\":{\"id\":\"8ea635d4-1038-4a5a-a30e-8107ed3fd78d\",\"type\":\"DataRange1d\"},\"x_scale\":{\"id\":\"d8cbc07d-a825-4880-bf30-fd64e40229cf\",\"type\":\"LinearScale\"},\"y_range\":{\"id\":\"22439043-898c-487c-b11a-a0faad5a190e\",\"type\":\"DataRange1d\"},\"y_scale\":{\"id\":\"86bfb35f-221f-4393-83bc-4354115d9f30\",\"type\":\"LinearScale\"}},\"id\":\"8d5bed55-f1da-48fa-9aa7-b81c1c86c4e2\",\"subtype\":\"Figure\",\"type\":\"Plot\"},{\"attributes\":{\"days\":[1,2,3,4,5,6,7,8,9,10,11,12,13,14,15,16,17,18,19,20,21,22,23,24,25,26,27,28,29,30,31]},\"id\":\"c7594ee1-f5b6-4d45-8dfc-9548fa3051bb\",\"type\":\"DaysTicker\"},{\"attributes\":{\"days\":[1,15]},\"id\":\"e232873e-0a2b-462c-8124-ec61576b614e\",\"type\":\"DaysTicker\"},{\"attributes\":{\"child\":{\"id\":\"30117e2d-e3ed-4405-b755-759eecb24fc4\",\"subtype\":\"Figure\",\"type\":\"Plot\"},\"title\":\"BLOCK C\"},\"id\":\"0ca2a6d5-ded4-46a1-9609-5d4772ba4a9b\",\"type\":\"Panel\"},{\"attributes\":{\"child\":{\"id\":\"ee16fe5a-d3df-4de8-a964-38fcf4b337b8\",\"subtype\":\"Figure\",\"type\":\"Plot\"},\"title\":\"BLOCK A\"},\"id\":\"f0ffe7be-3e42-4c92-849c-c757ed0bb9e3\",\"type\":\"Panel\"},{\"attributes\":{},\"id\":\"790dc236-1284-4058-80a8-d6169ade818c\",\"type\":\"LinearScale\"},{\"attributes\":{\"callback\":null,\"tooltips\":\"\\n             <div style=\\\"background: #FFFFFF;\\\">\\n                <span style=\\\"font-size: 20px; color: blue;\\\"> cumulative GDD, @Cum_GDD{int}</span><br />\\n                <span style=\\\"font-size: 15px; color: green;\\\"> DATE, @date_formatted</span><br />\\n            </div>\\n        \"},\"id\":\"53f04309-5519-419f-ac2a-6206ef3d08c6\",\"type\":\"HoverTool\"},{\"attributes\":{\"dimensions\":\"width\"},\"id\":\"d94097fa-09da-4708-a148-80257d148685\",\"type\":\"PanTool\"},{\"attributes\":{\"active_drag\":\"auto\",\"active_inspect\":\"auto\",\"active_scroll\":\"auto\",\"active_tap\":\"auto\",\"logo\":null,\"tools\":[{\"id\":\"06953483-b37a-41bc-93dc-57c7dbded7ca\",\"type\":\"HoverTool\"},{\"id\":\"d2646e0c-176b-43d8-a606-f5657b0cb7fd\",\"type\":\"PanTool\"},{\"id\":\"f069b5b9-fa2f-4239-b7b4-c73f2cfe745e\",\"type\":\"ResetTool\"},{\"id\":\"e2eb4d9b-7b95-407e-9734-cbee4b8e1f18\",\"type\":\"SaveTool\"}]},\"id\":\"4b05bb84-6594-48a2-803b-d011441b9d5f\",\"type\":\"Toolbar\"},{\"attributes\":{},\"id\":\"475382ab-5d0b-4f59-88bf-6cb1f7f7d321\",\"type\":\"ResetTool\"},{\"attributes\":{\"months\":[0,4,8]},\"id\":\"f74fc47f-83eb-4687-a33f-f0166579cebd\",\"type\":\"MonthsTicker\"},{\"attributes\":{\"callback\":null},\"id\":\"369dae3e-40a9-4379-af52-face92b1744f\",\"type\":\"DataRange1d\"},{\"attributes\":{\"plot\":{\"id\":\"ee16fe5a-d3df-4de8-a964-38fcf4b337b8\",\"subtype\":\"Figure\",\"type\":\"Plot\"},\"ticker\":{\"id\":\"54410fbf-fdde-4b9b-a583-c36fa3e6f710\",\"type\":\"DatetimeTicker\"}},\"id\":\"2c6d9d2a-6afc-4123-ad36-f00016562144\",\"type\":\"Grid\"},{\"attributes\":{\"source\":{\"id\":\"2b09afd2-49ce-4798-a824-35c45d88ac0a\",\"type\":\"ColumnDataSource\"}},\"id\":\"13b768aa-d795-41fa-aa83-d5887a92b888\",\"type\":\"CDSView\"},{\"attributes\":{},\"id\":\"bb7bb2f6-cec7-487d-a2a3-c9fa086eefa4\",\"type\":\"BasicTickFormatter\"},{\"attributes\":{\"source\":{\"id\":\"245254c5-ade6-4eba-b9c3-d61fc55288ae\",\"type\":\"ColumnDataSource\"}},\"id\":\"1c840cdc-50ba-4cc3-aa35-53404f0fcb0b\",\"type\":\"CDSView\"},{\"attributes\":{\"fill_alpha\":{\"value\":0.1},\"fill_color\":{\"value\":\"#1f77b4\"},\"line_alpha\":{\"value\":0.1},\"line_color\":{\"value\":\"#1f77b4\"},\"x\":{\"field\":\"Date\"},\"y\":{\"field\":\"Cum_GDD\"}},\"id\":\"ffc071b1-ef18-4b29-8381-7e0077f5ba8e\",\"type\":\"Circle\"},{\"attributes\":{\"line_alpha\":{\"value\":0.1},\"line_color\":{\"value\":\"#1f77b4\"},\"line_width\":{\"value\":2},\"x\":{\"field\":\"Date\"},\"y\":{\"field\":\"Cum_GDD\"}},\"id\":\"0376eab4-ae6a-45df-9393-fb0d77a8ee07\",\"type\":\"Line\"},{\"attributes\":{},\"id\":\"77dc3ffa-a10c-4f40-b96f-107bbe11dd51\",\"type\":\"LinearScale\"},{\"attributes\":{\"mantissas\":[1,2,5],\"max_interval\":500.0,\"num_minor_ticks\":0},\"id\":\"b4d6dc72-f5fb-464a-8827-92ce557b43c5\",\"type\":\"AdaptiveTicker\"},{\"attributes\":{\"callback\":null,\"tabs\":[{\"id\":\"f0ffe7be-3e42-4c92-849c-c757ed0bb9e3\",\"type\":\"Panel\"},{\"id\":\"0ca2a6d5-ded4-46a1-9609-5d4772ba4a9b\",\"type\":\"Panel\"},{\"id\":\"801dae24-f938-4f41-a46c-0c8932c034f0\",\"type\":\"Panel\"}]},\"id\":\"4ba230ca-ffa8-4e74-8056-6256f542678d\",\"type\":\"Tabs\"},{\"attributes\":{\"base\":24,\"mantissas\":[1,2,4,6,8,12],\"max_interval\":43200000.0,\"min_interval\":3600000.0,\"num_minor_ticks\":0},\"id\":\"277d1c1f-62ea-45eb-965a-43d1d0ec1964\",\"type\":\"AdaptiveTicker\"},{\"attributes\":{\"callback\":null,\"column_names\":[\"Date\",\"Cum_GDD\",\"GDD\",\"date_formatted\"],\"data\":{\"Cum_GDD\":{\"__ndarray__\":\"mpmZmZmZMEDNzMzMzEw/QDQzMzMzs0ZAmpmZmZnZTkCamZmZmZlTQDQzMzMzE1hA8O7u7u6OXEBnZmZmZoZgQGdmZmZmxmJAeHd3d3cHZUCamZmZmUlnQM3MzMzMjGlAERERERHRa0BmZmZmZhZuQGZmZmZmLnBAIiIiIiJScUBmZmZmZnZyQDMzMzMzm3NAiIiIiIjAdEBmZmZmZuZ1QMzMzMzMDHdAu7u7u7szeEAyMzMzM1t5QDIzMzMzg3pAuru7u7ure0DLzMzMzNR8QGVmZmZm/n1Ah4iIiIgof0CZmZmZmSmAQDMzMzMzv4BAERERERFVgUAzMzMzM+uBQJmZmZmZgYJAREREREQYg0AzMzMzM6+DQGZmZmZmRoRAmZmZmZnhhEAzMzMzM2OFQJmZmZmZ74VAzMzMzMyGhkCZmZmZmRuHQDMzMzMzqYdAMzMzMzM5iECZmZmZmc+IQJmZmZmZX4lAmZmZmZn3iUCZmZmZmZOKQJmZmZmZC4tAmZmZmZmKi0CZmZmZmRCMQJmZmZmZnYxAmZmZmZkxjUAzMzMzM8+NQGZmZmZmYo5AmZmZmZn9jkBmZmZmZpKPQM3MzMzMGJBAAAAAAABokEDNzMzMzLaQQDMzMzMzA5FAmZmZmZlRkUDMzMzMzKKRQDIzMzMz85FAZWZmZmZCkkCYmZmZmZeSQMvMzMzM6JJAMTMzMzM9k0BkZmZmZoqTQMrMzMzM1pNAMDMzMzMllECWmZmZmXWUQGNmZmZmypRAyczMzMwelUCWmZmZmWWVQDAzMzMzsZVAyszMzMwAlkAwMzMzM1OWQP3/////o5ZAyszMzMzwlkAwMzMzMzuXQGNmZmZmgpdA/f/////Nl0CXmZmZmRuYQJeZmZmZZ5hAZGZmZma0mEDKzMzMzAKZQMrMzMzMUJlAyszMzMygmUDKzMzMzPCZQJeZmZmZQ5pA/f////+BmkBjZmZmZsyaQDAzMzMzB5tA/f////9Pm0DKzMzMzJqbQMrMzMzM6JtAZGZmZmY2nEAxMzMzM2ucQGRmZmZmp5xA/v/////qnED+/////y6dQMvMzMzMVZ1AmJmZmZl6nUBUVVVVVaadQP//////2J1AmZmZmZkSnkAiIiIiIlOeQJmZmZmZmp5A///////onkBDRERERDOfQGVmZmZmeZ9AZWZmZma7n0DLzMzMzNufQP////9/A6BAmZmZmRkZoEAzMzMzsy6gQM3MzMxMRKBAZ2ZmZuZZoEABAAAAgG+gQJuZmZkZhaBANTMzM7OaoEDPzMzMTLCgQGlmZmbmxaBAAwAAAIDboECdmZmZGfGgQDczMzOzBqFA0czMzEwcoUBrZmZm5jGhQAUAAACAR6FAn5mZmRldoUA5MzMzs3KhQNPMzMxMiKFAbWZmZuadoUAHAAAAgLOhQKGZmZkZyaFAOzMzM7PeoUDVzMzMTPShQG9mZmbmCaJACQAAAIAfokCjmZmZGTWiQD0zMzOzSqJA18zMzExgokBxZmZm5nWiQAsAAACAi6JApZmZmRmhokA/MzMzs7aiQNnMzMxMzKJAc2ZmZubhokA=\",\"dtype\":\"float64\",\"shape\":[148]},\"Date\":{\"__ndarray__\":\"AAAA2CDEdUIAAMA9c8R1QgAAgKPFxHVCAABACRjFdUIAAABvasV1QgAAwNS8xXVCAACAOg/GdUIAAECgYcZ1QgAAAAa0xnVCAADAawbHdUIAAIDRWMd1QgAAQDerx3VCAAAAnf3HdUIAAMACUMh1QgAAgGiiyHVCAABAzvTIdUIAAAA0R8l1QgAAwJmZyXVCAACA/+vJdUIAAEBlPsp1QgAAAMuQynVCAADAMOPKdUIAAICWNct1QgAAQPyHy3VCAAAAYtrLdUIAAMDHLMx1QgAAgC1/zHVCAABAk9HMdUIAAAD5I811QgAAwF52zXVCAACAxMjNdUIAAEAqG851QgAAAJBtznVCAADA9b/OdUIAAIBbEs91QgAAQMFkz3VCAAAAJ7fPdUIAAMCMCdB1QgAAgPJb0HVCAABAWK7QdUIAAAC+ANF1QgAAwCNT0XVCAACAiaXRdUIAAEDv99F1QgAAAFVK0nVCAADAupzSdUIAAIAg79J1QgAAQIZB03VCAAAA7JPTdUIAAMBR5tN1QgAAgLc41HVCAABAHYvUdUIAAACD3dR1QgAAwOgv1XVCAACAToLVdUIAAEC01NV1QgAAABon1nVCAADAf3nWdUIAAIDly9Z1QgAAQEse13VCAAAAsXDXdUIAAMAWw9d1QgAAgHwV2HVCAABA4mfYdUIAAABIuth1QgAAwK0M2XVCAACAE1/ZdUIAAEB5sdl1QgAAAN8D2nVCAADARFbadUIAAICqqNp1QgAAQBD72nVCAAAAdk3bdUIAAMDbn9t1QgAAgEHy23VCAABAp0TcdUIAAAANl9x1QgAAwHLp3HVCAACA2DvddUIAAEA+jt11QgAAAKTg3XVCAADACTPedUIAAIBvhd51QgAAQNXX3nVCAAAAOyrfdUIAAMCgfN91QgAAgAbP33VCAABAbCHgdUIAAADSc+B1QgAAwDfG4HVCAACAnRjhdUIAAEADa+F1QgAAAGm94XVCAADAzg/idUIAAIA0YuJ1QgAAQJq04nVCAAAAAAfjdUIAAMBlWeN1QgAAgMur43VCAABAMf7jdUIAAACXUOR1QgAAwPyi5HVCAACAYvXkdUIAAEDIR+V1QgAAAC6a5XVCAADAk+zldUIAAID5PuZ1QgAAQF+R5nVCAAAAxePmdUIAAMAqNud1QgAAgJCI53VCAABA9trndUIAAABcLeh1QgAAwMF/6HVCAACAJ9LodUIAAECNJOl1QgAAAPN26XVCAADAWMnpdUIAAIC+G+p1QgAAQCRu6nVCAAAAisDqdUIAAMDvEut1QgAAgFVl63VCAABAu7frdUIAAAAhCux1QgAAwIZc7HVCAACA7K7sdUIAAEBSAe11QgAAALhT7XVCAADAHabtdUIAAICD+O11QgAAQOlK7nVCAAAAT53udUIAAMC07+51QgAAgBpC73VCAABAgJTvdUIAAADm5u91QgAAwEs58HVCAACAsYvwdUIAAEAX3vB1QgAAAH0w8XVCAADA4oLxdUIAAIBI1fF1QgAAQK4n8nVCAAAAFHrydUIAAMB5zPJ1QgAAgN8e83VCAABARXHzdUI=\",\"dtype\":\"float64\",\"shape\":[148]},\"GDD\":{\"__ndarray__\":\"mpmZmZmZMEBmZmZmZmYtQDQzMzMzMyxAzczMzMxMMEAzMzMzM7MwQGZmZmZm5jFA7+7u7u7uMUB3d3d3d/cxQAAAAAAAADJAiIiIiIgIMkAREREREREyQJmZmZmZGTJAIiIiIiIiMkCqqqqqqioyQDMzMzMzMzJAu7u7u7s7MkBEREREREQyQMzMzMzMTDJAVVVVVVVVMkDd3d3d3V0yQGZmZmZmZjJA7+7u7u5uMkB3d3d3d3cyQAAAAAAAgDJAiIiIiIiIMkAREREREZEyQJmZmZmZmTJAIiIiIiKiMkCqqqqqqqoyQDMzMzMzszJAu7u7u7u7MkBERERERMQyQMzMzMzMzDJAVVVVVVXVMkDd3d3d3d0yQGZmZmZm5jJAZmZmZmZmM0AzMzMzMzMwQMzMzMzMjDFAZmZmZmbmMkCamZmZmZkyQDMzMzMzszFAAAAAAAAAMkDNzMzMzMwyQAAAAAAAADJAAAAAAAAAM0AAAAAAAIAzQAAAAAAAAC5AAAAAAADAL0AAAAAAAMAwQAAAAAAAoDFAAAAAAACAMkAzMzMzM7MzQGZmZmZmZjJAZmZmZmZmM0CamZmZmZkyQGZmZmZm5jNAzczMzMzMM0AzMzMzM7MzQJqZmZmZGTNAmpmZmZmZM0DNzMzMzEw0QJqZmZmZGTRAzczMzMzMM0DNzMzMzEw1QM3MzMzMTDRAmpmZmZkZNUDNzMzMzEwzQJqZmZmZGTNAmpmZmZmZM0CamZmZmRk0QDMzMzMzMzVAmpmZmZkZNUAzMzMzM7MxQGZmZmZm5jJAZmZmZmbmM0CamZmZmZk0QDMzMzMzMzRAMzMzMzMzM0CamZmZmZkyQM3MzMzMzDFAZmZmZmbmMkBmZmZmZmYzQAAAAAAAADNAMzMzMzMzM0CamZmZmZkzQAAAAAAAgDNAAAAAAAAANEAAAAAAAAA0QDMzMzMzszRANDMzMzMzL0CamZmZmZkyQGZmZmZmZi1AMzMzMzMzMkAzMzMzM7MyQAAAAAAAgDNAZmZmZmZmM0BmZmZmZmYqQJiZmZmZGS5AZmZmZmbmMEAAAAAAAAAxQGZmZmZmZiNAZmZmZmZmIkDe3d3d3d0lQFZVVVVVVSlAzMzMzMzMLEAiIiIiIiIwQN7d3d3d3TFAmpmZmZmZM0AREREREZEyQImIiIiIiDFAAAAAAACAMEA0MzMzMzMgQJqZmZmZmSVAmpmZmZmZJUCamZmZmZklQJqZmZmZmSVAmpmZmZmZJUCamZmZmZklQJqZmZmZmSVAmpmZmZmZJUCamZmZmZklQJqZmZmZmSVAmpmZmZmZJUCamZmZmZklQJqZmZmZmSVAmpmZmZmZJUCamZmZmZklQJqZmZmZmSVAmpmZmZmZJUCamZmZmZklQJqZmZmZmSVAmpmZmZmZJUCamZmZmZklQJqZmZmZmSVAmpmZmZmZJUCamZmZmZklQJqZmZmZmSVAmpmZmZmZJUCamZmZmZklQJqZmZmZmSVAmpmZmZmZJUCamZmZmZklQJqZmZmZmSVAmpmZmZmZJUCamZmZmZklQJqZmZmZmSVAmpmZmZmZJUA=\",\"dtype\":\"float64\",\"shape\":[148]},\"date_formatted\":[\"2017-05-26\",\"2017-05-27\",\"2017-05-28\",\"2017-05-29\",\"2017-05-30\",\"2017-05-31\",\"2017-06-01\",\"2017-06-02\",\"2017-06-03\",\"2017-06-04\",\"2017-06-05\",\"2017-06-06\",\"2017-06-07\",\"2017-06-08\",\"2017-06-09\",\"2017-06-10\",\"2017-06-11\",\"2017-06-12\",\"2017-06-13\",\"2017-06-14\",\"2017-06-15\",\"2017-06-16\",\"2017-06-17\",\"2017-06-18\",\"2017-06-19\",\"2017-06-20\",\"2017-06-21\",\"2017-06-22\",\"2017-06-23\",\"2017-06-24\",\"2017-06-25\",\"2017-06-26\",\"2017-06-27\",\"2017-06-28\",\"2017-06-29\",\"2017-06-30\",\"2017-07-01\",\"2017-07-02\",\"2017-07-03\",\"2017-07-04\",\"2017-07-05\",\"2017-07-06\",\"2017-07-07\",\"2017-07-08\",\"2017-07-09\",\"2017-07-10\",\"2017-07-11\",\"2017-07-12\",\"2017-07-13\",\"2017-07-14\",\"2017-07-15\",\"2017-07-16\",\"2017-07-17\",\"2017-07-18\",\"2017-07-19\",\"2017-07-20\",\"2017-07-21\",\"2017-07-22\",\"2017-07-23\",\"2017-07-24\",\"2017-07-25\",\"2017-07-26\",\"2017-07-27\",\"2017-07-28\",\"2017-07-29\",\"2017-07-30\",\"2017-07-31\",\"2017-08-01\",\"2017-08-02\",\"2017-08-03\",\"2017-08-04\",\"2017-08-05\",\"2017-08-06\",\"2017-08-07\",\"2017-08-08\",\"2017-08-09\",\"2017-08-10\",\"2017-08-11\",\"2017-08-12\",\"2017-08-13\",\"2017-08-14\",\"2017-08-15\",\"2017-08-16\",\"2017-08-17\",\"2017-08-18\",\"2017-08-19\",\"2017-08-20\",\"2017-08-21\",\"2017-08-22\",\"2017-08-23\",\"2017-08-24\",\"2017-08-25\",\"2017-08-26\",\"2017-08-27\",\"2017-08-28\",\"2017-08-29\",\"2017-08-30\",\"2017-08-31\",\"2017-09-01\",\"2017-09-02\",\"2017-09-03\",\"2017-09-04\",\"2017-09-05\",\"2017-09-06\",\"2017-09-07\",\"2017-09-08\",\"2017-09-09\",\"2017-09-10\",\"2017-09-11\",\"2017-09-12\",\"2017-09-13\",\"2017-09-14\",\"2017-09-15\",\"2017-09-16\",\"2017-09-17\",\"2017-09-18\",\"2017-09-19\",\"2017-09-20\",\"2017-09-21\",\"2017-09-22\",\"2017-09-23\",\"2017-09-24\",\"2017-09-25\",\"2017-09-26\",\"2017-09-27\",\"2017-09-28\",\"2017-09-29\",\"2017-09-30\",\"2017-10-01\",\"2017-10-02\",\"2017-10-03\",\"2017-10-04\",\"2017-10-05\",\"2017-10-06\",\"2017-10-07\",\"2017-10-08\",\"2017-10-09\",\"2017-10-10\",\"2017-10-11\",\"2017-10-12\",\"2017-10-13\",\"2017-10-14\",\"2017-10-15\",\"2017-10-16\",\"2017-10-17\",\"2017-10-18\",\"2017-10-19\",\"2017-10-20\"]}},\"id\":\"2b09afd2-49ce-4798-a824-35c45d88ac0a\",\"type\":\"ColumnDataSource\"},{\"attributes\":{},\"id\":\"1e781d1d-01a5-40d0-821f-6ddfab83b78b\",\"type\":\"DatetimeTickFormatter\"},{\"attributes\":{\"plot\":null,\"text\":\"\"},\"id\":\"c8c9dd94-172d-4688-bf2a-b82e7883044f\",\"type\":\"Title\"},{\"attributes\":{\"child\":{\"id\":\"8d5bed55-f1da-48fa-9aa7-b81c1c86c4e2\",\"subtype\":\"Figure\",\"type\":\"Plot\"},\"title\":\"BLOCK D\"},\"id\":\"801dae24-f938-4f41-a46c-0c8932c034f0\",\"type\":\"Panel\"},{\"attributes\":{\"mantissas\":[1,2,5],\"max_interval\":500.0,\"num_minor_ticks\":0},\"id\":\"edeac7af-8c74-4294-b7ae-cf185690a9fd\",\"type\":\"AdaptiveTicker\"},{\"attributes\":{},\"id\":\"f069b5b9-fa2f-4239-b7b4-c73f2cfe745e\",\"type\":\"ResetTool\"},{\"attributes\":{},\"id\":\"89d8c397-b464-4d4b-84f8-b4221358426b\",\"type\":\"BasicTicker\"},{\"attributes\":{\"fill_color\":{\"value\":\"#1f77b4\"},\"line_color\":{\"value\":\"#1f77b4\"},\"x\":{\"field\":\"Date\"},\"y\":{\"field\":\"Cum_GDD\"}},\"id\":\"be88a70b-1a88-4388-b222-a25ec7b4819a\",\"type\":\"Circle\"},{\"attributes\":{\"months\":[0,1,2,3,4,5,6,7,8,9,10,11]},\"id\":\"23728be3-6b44-4239-bcc0-a0235c448719\",\"type\":\"MonthsTicker\"},{\"attributes\":{},\"id\":\"86bfb35f-221f-4393-83bc-4354115d9f30\",\"type\":\"LinearScale\"},{\"attributes\":{\"base\":24,\"mantissas\":[1,2,4,6,8,12],\"max_interval\":43200000.0,\"min_interval\":3600000.0,\"num_minor_ticks\":0},\"id\":\"ce9a3594-7854-4938-a630-e0d42635aa74\",\"type\":\"AdaptiveTicker\"},{\"attributes\":{\"callback\":null},\"id\":\"231aeff3-b495-4053-8817-0b9585258d90\",\"type\":\"DataRange1d\"},{\"attributes\":{\"axis_label\":\"CUMULATIVE GDD\",\"axis_label_text_font_size\":{\"value\":\"20pt\"},\"formatter\":{\"id\":\"bb7bb2f6-cec7-487d-a2a3-c9fa086eefa4\",\"type\":\"BasicTickFormatter\"},\"plot\":{\"id\":\"30117e2d-e3ed-4405-b755-759eecb24fc4\",\"subtype\":\"Figure\",\"type\":\"Plot\"},\"ticker\":{\"id\":\"432c94e9-5f8d-46af-89e6-1ea9fa85024b\",\"type\":\"BasicTicker\"}},\"id\":\"215e0122-b854-4aae-b3f5-48def892b69e\",\"type\":\"LinearAxis\"},{\"attributes\":{\"source\":{\"id\":\"f36b521d-02fb-46f2-bf33-ff8e93ba95e5\",\"type\":\"ColumnDataSource\"}},\"id\":\"54717145-4a58-47f6-a9c5-29ab6ba139f4\",\"type\":\"CDSView\"},{\"attributes\":{\"plot\":{\"id\":\"30117e2d-e3ed-4405-b755-759eecb24fc4\",\"subtype\":\"Figure\",\"type\":\"Plot\"},\"ticker\":{\"id\":\"063c5058-4180-4186-a7f4-d35481f57188\",\"type\":\"DatetimeTicker\"}},\"id\":\"7d074937-6bb3-49ab-a39b-4696862e9269\",\"type\":\"Grid\"},{\"attributes\":{},\"id\":\"bfa5a8d0-ae0e-4cc4-be6a-24c701f7c39a\",\"type\":\"SaveTool\"},{\"attributes\":{\"months\":[0,6]},\"id\":\"a440dfd1-459f-4a32-8dff-60095c37b3e6\",\"type\":\"MonthsTicker\"},{\"attributes\":{\"num_minor_ticks\":5,\"tickers\":[{\"id\":\"edeac7af-8c74-4294-b7ae-cf185690a9fd\",\"type\":\"AdaptiveTicker\"},{\"id\":\"6e61d689-c93b-4749-8522-736deb78fb23\",\"type\":\"AdaptiveTicker\"},{\"id\":\"b8b92941-9e8e-4aa9-9fae-19c0ed598e6e\",\"type\":\"AdaptiveTicker\"},{\"id\":\"c7594ee1-f5b6-4d45-8dfc-9548fa3051bb\",\"type\":\"DaysTicker\"},{\"id\":\"6d98184f-1217-46b8-ad37-de7f9db89ed6\",\"type\":\"DaysTicker\"},{\"id\":\"794417ca-7de3-457c-93fd-56a539838cfd\",\"type\":\"DaysTicker\"},{\"id\":\"374c6a50-b189-4515-acb5-5604018006f2\",\"type\":\"DaysTicker\"},{\"id\":\"c3eb5951-de56-4616-94c5-17eb725462b8\",\"type\":\"MonthsTicker\"},{\"id\":\"1afca64a-6914-42ab-8615-b5c526ca606a\",\"type\":\"MonthsTicker\"},{\"id\":\"a1b9549c-3c5a-4d72-908d-5c9c774a6f1c\",\"type\":\"MonthsTicker\"},{\"id\":\"d605b5cc-bace-4d54-9506-db4747ca2585\",\"type\":\"MonthsTicker\"},{\"id\":\"fb9763bf-c173-4881-8202-7c7c5ec72b8f\",\"type\":\"YearsTicker\"}]},\"id\":\"54410fbf-fdde-4b9b-a583-c36fa3e6f710\",\"type\":\"DatetimeTicker\"},{\"attributes\":{\"data_source\":{\"id\":\"f36b521d-02fb-46f2-bf33-ff8e93ba95e5\",\"type\":\"ColumnDataSource\"},\"glyph\":{\"id\":\"88d8c815-bfd1-494b-8160-dd82de61a0d2\",\"type\":\"Circle\"},\"hover_glyph\":null,\"muted_glyph\":null,\"nonselection_glyph\":{\"id\":\"80590cb8-5b40-4adf-b035-931928f4b6ef\",\"type\":\"Circle\"},\"selection_glyph\":null,\"view\":{\"id\":\"8304c40d-8de7-4aaf-bdda-4755e944481d\",\"type\":\"CDSView\"}},\"id\":\"7ccf1213-2399-4b80-a66b-a4fd2f0e0f32\",\"type\":\"GlyphRenderer\"},{\"attributes\":{\"axis_label\":\"CUMULATIVE GDD\",\"axis_label_text_font_size\":{\"value\":\"20pt\"},\"formatter\":{\"id\":\"b9380b7a-80c0-4ad6-970e-88fc056c64bb\",\"type\":\"BasicTickFormatter\"},\"plot\":{\"id\":\"ee16fe5a-d3df-4de8-a964-38fcf4b337b8\",\"subtype\":\"Figure\",\"type\":\"Plot\"},\"ticker\":{\"id\":\"89d8c397-b464-4d4b-84f8-b4221358426b\",\"type\":\"BasicTicker\"}},\"id\":\"ebd12426-38f8-4d5e-9b13-ebdbd8dc3dcd\",\"type\":\"LinearAxis\"},{\"attributes\":{\"callback\":null,\"column_names\":[\"Date\",\"Cum_GDD\",\"GDD\",\"date_formatted\"],\"data\":{\"Cum_GDD\":{\"__ndarray__\":\"AAAAAACAMkBmZmZmZiZDQJmZmZmZmUxAzMzMzMxsU0AyMzMzM5NYQGVmZmZmhl1AmZmZmZk5YUCZmZmZmbljQMzMzMzMXGZAMjMzMzPjaEBlZmZmZmZrQJiZmZmZGW5AMjMzMzNTcECYmZmZmalxQJiZmZmZ4XJAMjMzMzMTdECYmZmZmVF1QMvMzMzMlHZAmJmZmZnhd0D+/////zd5QGRmZmZmVnpAl5mZmZmJe0DKzMzMzMx8QDAzMzMzG35AlpmZmZlhf0BlZmZmZkqAQMvMzMzM4IBA/v////9vgUD+/////weCQMvMzMzMpIJAy8zMzMxAg0CYmZmZmd2DQP7/////e4RAMTMzMzMbhUBkZmZmZr6FQJeZmZmZYYZAZGZmZmYKh0AxMzMzM7OHQP7/////X4hAZGZmZmbuiEAxMzMzM3+JQDEzMzMzF4pAl5mZmZm5ikDKzMzMzFSLQDAzMzMz44tAMDMzMzNnjEBjZmZmZvKMQJaZmZmZfY1AMDMzMzPvjUAwMzMzM2OOQP3/////545AMDMzMzNzj0AyMzMzMwOQQDIzMzMzQ5BAZWZmZmaIkEAyMzMzM82QQDIzMzMzDZFA//////9VkUBlZmZmZpiRQJiZmZmZz5FAy8zMzMwGkkAxMzMzM0uSQP7/////jZJAy8zMzMzQkkCYmZmZmROTQGVmZmZmVpNAMjMzMzOZk0D//////9uTQMzMzMzMHpRAmZmZmZlhlEBmZmZmZqSUQDMzMzMz55RAAAAAAAAqlUDNzMzMzGyVQJqZmZmZr5VAZ2ZmZmbylUA0MzMzMzWWQAEAAAAAeJZAzszMzMy6lkCbmZmZmf2WQGhmZmZmQJdANTMzMzODl0ACAAAAAMaXQM/MzMzMCJhAnJmZmZlLmEBpZmZmZo6YQDYzMzMz0ZhAAwAAAAAUmUDQzMzMzFaZQJ2ZmZmZmZlAamZmZmbcmUA3MzMzMx+aQAQAAAAAYppA0czMzMykmkCemZmZmeeaQA==\",\"dtype\":\"float64\",\"shape\":[95]},\"Date\":{\"__ndarray__\":\"AADA6C/VdUIAAIBOgtV1QgAAQLTU1XVCAAAAGifWdUIAAMB/edZ1QgAAgOXL1nVCAABASx7XdUIAAACxcNd1QgAAwBbD13VCAACAfBXYdUIAAEDiZ9h1QgAAAEi62HVCAADArQzZdUIAAIATX9l1QgAAQHmx2XVCAAAA3wPadUIAAMBEVtp1QgAAgKqo2nVCAABAEPvadUIAAAB2Tdt1QgAAwNuf23VCAACAQfLbdUIAAECnRNx1QgAAAA2X3HVCAADAcuncdUIAAIDYO911QgAAQD6O3XVCAAAApODddUIAAMAJM951QgAAgG+F3nVCAABA1dfedUIAAAA7Kt91QgAAwKB833VCAACABs/fdUIAAEBsIeB1QgAAANJz4HVCAADAN8bgdUIAAICdGOF1QgAAQANr4XVCAAAAab3hdUIAAMDOD+J1QgAAgDRi4nVCAABAmrTidUIAAAAAB+N1QgAAwGVZ43VCAACAy6vjdUIAAEAx/uN1QgAAAJdQ5HVCAADA/KLkdUIAAIBi9eR1QgAAQMhH5XVCAAAALprldUIAAMCT7OV1QgAAgPk+5nVCAABAX5HmdUIAAADF4+Z1QgAAwCo253VCAACAkIjndUIAAED22ud1QgAAAFwt6HVCAADAwX/odUIAAIAn0uh1QgAAQI0k6XVCAAAA83bpdUIAAMBYyel1QgAAgL4b6nVCAABAJG7qdUIAAACKwOp1QgAAwO8S63VCAACAVWXrdUIAAEC7t+t1QgAAACEK7HVCAADAhlzsdUIAAIDsrux1QgAAQFIB7XVCAAAAuFPtdUIAAMAdpu11QgAAgIP47XVCAABA6UrudUIAAABPne51QgAAwLTv7nVCAACAGkLvdUIAAECAlO91QgAAAObm73VCAADASznwdUIAAICxi/B1QgAAQBfe8HVCAAAAfTDxdUIAAMDigvF1QgAAgEjV8XVCAABArifydUIAAAAUevJ1QgAAwHnM8nVCAACA3x7zdUIAAEBFcfN1Qg==\",\"dtype\":\"float64\",\"shape\":[95]},\"GDD\":{\"__ndarray__\":\"AAAAAACAMkDNzMzMzMwzQGZmZmZm5jJAAAAAAACANECamZmZmZk0QM3MzMzMzDNAMzMzMzOzM0AAAAAAAAA0QJqZmZmZGTVAMzMzMzMzNECamZmZmRk0QJqZmZmZmTVAZmZmZmZmNEBmZmZmZmY1QAAAAAAAgDNAmpmZmZkZM0BmZmZmZuYzQDMzMzMzMzRAzczMzMzMNEBmZmZmZmY1QGZmZmZm5jFAMzMzMzMzM0AzMzMzMzM0QGZmZmZm5jRAZmZmZmZmNEAzMzMzMzMzQM3MzMzMzDJAZmZmZmbmMUAAAAAAAAAzQJqZmZmZmTNAAAAAAACAM0CamZmZmZkzQM3MzMzMzDNAZmZmZmbmM0BmZmZmZmY0QGZmZmZmZjRAmpmZmZkZNUCamZmZmRk1QJqZmZmZmTVAzczMzMzMMUCamZmZmRkyQAAAAAAAADNAzczMzMxMNEBmZmZmZmYzQM3MzMzMzDFAAAAAAACAMEBmZmZmZmYxQGZmZmZmZjFAZmZmZmZmLEAAAAAAAAAtQJqZmZmZmTBAZmZmZmZmMUBmZmZmZmYyQAAAAAAAADBAzczMzMxMMUAzMzMzMzMxQAAAAAAAADBAMzMzMzMzMkCamZmZmZkwQJqZmZmZmStAmpmZmZmZK0CamZmZmRkxQDMzMzMzszBAMzMzMzOzMEAzMzMzM7MwQDMzMzMzszBAMzMzMzOzMEAzMzMzM7MwQDMzMzMzszBAMzMzMzOzMEAzMzMzM7MwQDMzMzMzszBAMzMzMzOzMEAzMzMzM7MwQDMzMzMzszBAMzMzMzOzMEAzMzMzM7MwQDMzMzMzszBAMzMzMzOzMEAzMzMzM7MwQDMzMzMzszBAMzMzMzOzMEAzMzMzM7MwQDMzMzMzszBAMzMzMzOzMEAzMzMzM7MwQDMzMzMzszBAMzMzMzOzMEAzMzMzM7MwQDMzMzMzszBAMzMzMzOzMEAzMzMzM7MwQDMzMzMzszBAMzMzMzOzMEAzMzMzM7MwQA==\",\"dtype\":\"float64\",\"shape\":[95]},\"date_formatted\":[\"2017-07-18\",\"2017-07-19\",\"2017-07-20\",\"2017-07-21\",\"2017-07-22\",\"2017-07-23\",\"2017-07-24\",\"2017-07-25\",\"2017-07-26\",\"2017-07-27\",\"2017-07-28\",\"2017-07-29\",\"2017-07-30\",\"2017-07-31\",\"2017-08-01\",\"2017-08-02\",\"2017-08-03\",\"2017-08-04\",\"2017-08-05\",\"2017-08-06\",\"2017-08-07\",\"2017-08-08\",\"2017-08-09\",\"2017-08-10\",\"2017-08-11\",\"2017-08-12\",\"2017-08-13\",\"2017-08-14\",\"2017-08-15\",\"2017-08-16\",\"2017-08-17\",\"2017-08-18\",\"2017-08-19\",\"2017-08-20\",\"2017-08-21\",\"2017-08-22\",\"2017-08-23\",\"2017-08-24\",\"2017-08-25\",\"2017-08-26\",\"2017-08-27\",\"2017-08-28\",\"2017-08-29\",\"2017-08-30\",\"2017-08-31\",\"2017-09-01\",\"2017-09-02\",\"2017-09-03\",\"2017-09-04\",\"2017-09-05\",\"2017-09-06\",\"2017-09-07\",\"2017-09-08\",\"2017-09-09\",\"2017-09-10\",\"2017-09-11\",\"2017-09-12\",\"2017-09-13\",\"2017-09-14\",\"2017-09-15\",\"2017-09-16\",\"2017-09-17\",\"2017-09-18\",\"2017-09-19\",\"2017-09-20\",\"2017-09-21\",\"2017-09-22\",\"2017-09-23\",\"2017-09-24\",\"2017-09-25\",\"2017-09-26\",\"2017-09-27\",\"2017-09-28\",\"2017-09-29\",\"2017-09-30\",\"2017-10-01\",\"2017-10-02\",\"2017-10-03\",\"2017-10-04\",\"2017-10-05\",\"2017-10-06\",\"2017-10-07\",\"2017-10-08\",\"2017-10-09\",\"2017-10-10\",\"2017-10-11\",\"2017-10-12\",\"2017-10-13\",\"2017-10-14\",\"2017-10-15\",\"2017-10-16\",\"2017-10-17\",\"2017-10-18\",\"2017-10-19\",\"2017-10-20\"]}},\"id\":\"f36b521d-02fb-46f2-bf33-ff8e93ba95e5\",\"type\":\"ColumnDataSource\"},{\"attributes\":{\"fill_color\":{\"value\":\"#1f77b4\"},\"line_color\":{\"value\":\"#1f77b4\"},\"x\":{\"field\":\"Date\"},\"y\":{\"field\":\"Cum_GDD\"}},\"id\":\"88d8c815-bfd1-494b-8160-dd82de61a0d2\",\"type\":\"Circle\"},{\"attributes\":{\"mantissas\":[1,2,5],\"max_interval\":500.0,\"num_minor_ticks\":0},\"id\":\"a071ee0f-631b-431b-80fe-7b9239692e40\",\"type\":\"AdaptiveTicker\"},{\"attributes\":{\"callback\":null},\"id\":\"47922452-70be-4969-a048-1fbf2746504f\",\"type\":\"DataRange1d\"},{\"attributes\":{\"months\":[0,2,4,6,8,10]},\"id\":\"5ca4d545-5dc6-4fec-a5e9-5781b3c204b5\",\"type\":\"MonthsTicker\"},{\"attributes\":{\"data_source\":{\"id\":\"245254c5-ade6-4eba-b9c3-d61fc55288ae\",\"type\":\"ColumnDataSource\"},\"glyph\":{\"id\":\"84706f77-075d-4d02-a9c4-e3ba804d629c\",\"type\":\"Circle\"},\"hover_glyph\":null,\"muted_glyph\":null,\"nonselection_glyph\":{\"id\":\"c2d14708-12f9-4ff9-91b7-dc9116d791b1\",\"type\":\"Circle\"},\"selection_glyph\":null,\"view\":{\"id\":\"3d837d5f-8826-484d-ae21-e95453fc9674\",\"type\":\"CDSView\"}},\"id\":\"eb7414c0-d54e-474b-8218-7347b63c88e6\",\"type\":\"GlyphRenderer\"},{\"attributes\":{},\"id\":\"4ca0209f-8ba2-4a25-a801-6a2645457e43\",\"type\":\"DatetimeTickFormatter\"},{\"attributes\":{\"base\":60,\"mantissas\":[1,2,5,10,15,20,30],\"max_interval\":1800000.0,\"min_interval\":1000.0,\"num_minor_ticks\":0},\"id\":\"ee54eafd-ff03-4101-8737-22fb6f4c139a\",\"type\":\"AdaptiveTicker\"},{\"attributes\":{\"months\":[0,4,8]},\"id\":\"a1b9549c-3c5a-4d72-908d-5c9c774a6f1c\",\"type\":\"MonthsTicker\"},{\"attributes\":{\"data_source\":{\"id\":\"2b09afd2-49ce-4798-a824-35c45d88ac0a\",\"type\":\"ColumnDataSource\"},\"glyph\":{\"id\":\"4102d631-ce1a-4d4e-b363-ea5b25cdb248\",\"type\":\"Line\"},\"hover_glyph\":null,\"muted_glyph\":null,\"nonselection_glyph\":{\"id\":\"77a89207-cf7b-4c7d-9043-331b10fb6258\",\"type\":\"Line\"},\"selection_glyph\":null,\"view\":{\"id\":\"13b768aa-d795-41fa-aa83-d5887a92b888\",\"type\":\"CDSView\"}},\"id\":\"13d10530-3057-4388-b1ed-aaac20673c4a\",\"type\":\"GlyphRenderer\"},{\"attributes\":{\"num_minor_ticks\":5,\"tickers\":[{\"id\":\"a071ee0f-631b-431b-80fe-7b9239692e40\",\"type\":\"AdaptiveTicker\"},{\"id\":\"9f57a4fb-0b9e-4540-9041-244b08feb14b\",\"type\":\"AdaptiveTicker\"},{\"id\":\"ce9a3594-7854-4938-a630-e0d42635aa74\",\"type\":\"AdaptiveTicker\"},{\"id\":\"d2a61665-3ca5-40f7-9f67-ddb076812fd1\",\"type\":\"DaysTicker\"},{\"id\":\"25f758ef-2ebe-4c10-8f78-e9ee6ab03e15\",\"type\":\"DaysTicker\"},{\"id\":\"99d4bba2-422e-433b-94b2-15dfa2ff3291\",\"type\":\"DaysTicker\"},{\"id\":\"e232873e-0a2b-462c-8124-ec61576b614e\",\"type\":\"DaysTicker\"},{\"id\":\"8568dd17-da89-4fe3-911f-362b33c2c9f4\",\"type\":\"MonthsTicker\"},{\"id\":\"d26daa0e-ff6f-476a-a57b-6dd4a05d14c8\",\"type\":\"MonthsTicker\"},{\"id\":\"f74fc47f-83eb-4687-a33f-f0166579cebd\",\"type\":\"MonthsTicker\"},{\"id\":\"a440dfd1-459f-4a32-8dff-60095c37b3e6\",\"type\":\"MonthsTicker\"},{\"id\":\"f2d098f9-514b-4058-ae16-d7e85d7803c1\",\"type\":\"YearsTicker\"}]},\"id\":\"063c5058-4180-4186-a7f4-d35481f57188\",\"type\":\"DatetimeTicker\"},{\"attributes\":{\"callback\":null},\"id\":\"8ea635d4-1038-4a5a-a30e-8107ed3fd78d\",\"type\":\"DataRange1d\"},{\"attributes\":{\"callback\":null,\"tooltips\":\"\\n             <div style=\\\"background: #FFFFFF;\\\">\\n                <span style=\\\"font-size: 20px; color: blue;\\\"> cumulative GDD, @Cum_GDD{int}</span><br />\\n                <span style=\\\"font-size: 15px; color: green;\\\"> DATE, @date_formatted</span><br />\\n            </div>\\n        \"},\"id\":\"06953483-b37a-41bc-93dc-57c7dbded7ca\",\"type\":\"HoverTool\"},{\"attributes\":{\"background_fill_color\":{\"value\":\"#D1D1D8\"},\"below\":[{\"id\":\"2ecad837-252f-48ef-94a0-b8840b9c7e67\",\"type\":\"DatetimeAxis\"}],\"left\":[{\"id\":\"ebd12426-38f8-4d5e-9b13-ebdbd8dc3dcd\",\"type\":\"LinearAxis\"}],\"plot_height\":470,\"renderers\":[{\"id\":\"2ecad837-252f-48ef-94a0-b8840b9c7e67\",\"type\":\"DatetimeAxis\"},{\"id\":\"2c6d9d2a-6afc-4123-ad36-f00016562144\",\"type\":\"Grid\"},{\"id\":\"ebd12426-38f8-4d5e-9b13-ebdbd8dc3dcd\",\"type\":\"LinearAxis\"},{\"id\":\"0a5de336-2685-459e-acc2-4ffbc8726ad7\",\"type\":\"Grid\"},{\"id\":\"f546870b-8591-4c9e-a340-0facdfeb0eb3\",\"type\":\"GlyphRenderer\"},{\"id\":\"eb7414c0-d54e-474b-8218-7347b63c88e6\",\"type\":\"GlyphRenderer\"}],\"title\":{\"id\":\"46eeb648-2c76-4d71-8691-18a0db8da4f5\",\"type\":\"Title\"},\"toolbar\":{\"id\":\"274fcf91-1c35-42d7-a4f8-1ff8d621a796\",\"type\":\"Toolbar\"},\"x_range\":{\"id\":\"8fab8abf-15f7-4fa1-8491-2e3231916161\",\"type\":\"DataRange1d\"},\"x_scale\":{\"id\":\"79f1936f-c67c-4ca1-883b-3785af130c7e\",\"type\":\"LinearScale\"},\"y_range\":{\"id\":\"231aeff3-b495-4053-8817-0b9585258d90\",\"type\":\"DataRange1d\"},\"y_scale\":{\"id\":\"3f040d07-170a-4659-a689-8b36f1cb6d55\",\"type\":\"LinearScale\"}},\"id\":\"ee16fe5a-d3df-4de8-a964-38fcf4b337b8\",\"subtype\":\"Figure\",\"type\":\"Plot\"},{\"attributes\":{\"months\":[0,6]},\"id\":\"d605b5cc-bace-4d54-9506-db4747ca2585\",\"type\":\"MonthsTicker\"},{\"attributes\":{\"days\":[1,2,3,4,5,6,7,8,9,10,11,12,13,14,15,16,17,18,19,20,21,22,23,24,25,26,27,28,29,30,31]},\"id\":\"d2a61665-3ca5-40f7-9f67-ddb076812fd1\",\"type\":\"DaysTicker\"},{\"attributes\":{\"source\":{\"id\":\"245254c5-ade6-4eba-b9c3-d61fc55288ae\",\"type\":\"ColumnDataSource\"}},\"id\":\"3d837d5f-8826-484d-ae21-e95453fc9674\",\"type\":\"CDSView\"},{\"attributes\":{\"months\":[0,1,2,3,4,5,6,7,8,9,10,11]},\"id\":\"8568dd17-da89-4fe3-911f-362b33c2c9f4\",\"type\":\"MonthsTicker\"},{\"attributes\":{\"axis_label\":\"DATE\",\"axis_label_text_font_size\":{\"value\":\"20pt\"},\"formatter\":{\"id\":\"4ca0209f-8ba2-4a25-a801-6a2645457e43\",\"type\":\"DatetimeTickFormatter\"},\"plot\":{\"id\":\"ee16fe5a-d3df-4de8-a964-38fcf4b337b8\",\"subtype\":\"Figure\",\"type\":\"Plot\"},\"ticker\":{\"id\":\"54410fbf-fdde-4b9b-a583-c36fa3e6f710\",\"type\":\"DatetimeTicker\"}},\"id\":\"2ecad837-252f-48ef-94a0-b8840b9c7e67\",\"type\":\"DatetimeAxis\"},{\"attributes\":{\"data_source\":{\"id\":\"2b09afd2-49ce-4798-a824-35c45d88ac0a\",\"type\":\"ColumnDataSource\"},\"glyph\":{\"id\":\"be88a70b-1a88-4388-b222-a25ec7b4819a\",\"type\":\"Circle\"},\"hover_glyph\":null,\"muted_glyph\":null,\"nonselection_glyph\":{\"id\":\"ffc071b1-ef18-4b29-8381-7e0077f5ba8e\",\"type\":\"Circle\"},\"selection_glyph\":null,\"view\":{\"id\":\"b804ac12-5746-4dc5-ac23-0ed94756056a\",\"type\":\"CDSView\"}},\"id\":\"409d0afc-7004-4896-b957-ce6ac2899681\",\"type\":\"GlyphRenderer\"},{\"attributes\":{\"months\":[0,1,2,3,4,5,6,7,8,9,10,11]},\"id\":\"c3eb5951-de56-4616-94c5-17eb725462b8\",\"type\":\"MonthsTicker\"},{\"attributes\":{\"callback\":null},\"id\":\"8fab8abf-15f7-4fa1-8491-2e3231916161\",\"type\":\"DataRange1d\"},{\"attributes\":{\"line_color\":{\"value\":\"blue\"},\"line_width\":{\"value\":2},\"x\":{\"field\":\"Date\"},\"y\":{\"field\":\"Cum_GDD\"}},\"id\":\"e45023bc-f8c9-41fe-8fd8-26228e10d55b\",\"type\":\"Line\"},{\"attributes\":{\"days\":[1,4,7,10,13,16,19,22,25,28]},\"id\":\"09638442-ba03-4151-b481-0112a5ee0920\",\"type\":\"DaysTicker\"},{\"attributes\":{\"plot\":null,\"text\":\"\"},\"id\":\"05d730ca-77d7-4911-94a5-a41957626fd1\",\"type\":\"Title\"},{\"attributes\":{\"days\":[1,15]},\"id\":\"374c6a50-b189-4515-acb5-5604018006f2\",\"type\":\"DaysTicker\"},{\"attributes\":{},\"id\":\"b9380b7a-80c0-4ad6-970e-88fc056c64bb\",\"type\":\"BasicTickFormatter\"},{\"attributes\":{\"days\":[1,2,3,4,5,6,7,8,9,10,11,12,13,14,15,16,17,18,19,20,21,22,23,24,25,26,27,28,29,30,31]},\"id\":\"5f1acb0b-75aa-4e13-80bf-aa219f25da80\",\"type\":\"DaysTicker\"},{\"attributes\":{},\"id\":\"f2d098f9-514b-4058-ae16-d7e85d7803c1\",\"type\":\"YearsTicker\"},{\"attributes\":{\"data_source\":{\"id\":\"f36b521d-02fb-46f2-bf33-ff8e93ba95e5\",\"type\":\"ColumnDataSource\"},\"glyph\":{\"id\":\"e45023bc-f8c9-41fe-8fd8-26228e10d55b\",\"type\":\"Line\"},\"hover_glyph\":null,\"muted_glyph\":null,\"nonselection_glyph\":{\"id\":\"54366d5c-90d2-4e58-8713-6263b70c66b9\",\"type\":\"Line\"},\"selection_glyph\":null,\"view\":{\"id\":\"54717145-4a58-47f6-a9c5-29ab6ba139f4\",\"type\":\"CDSView\"}},\"id\":\"20ff79df-564b-4cc7-8bba-8eec48d3f209\",\"type\":\"GlyphRenderer\"},{\"attributes\":{\"source\":{\"id\":\"f36b521d-02fb-46f2-bf33-ff8e93ba95e5\",\"type\":\"ColumnDataSource\"}},\"id\":\"8304c40d-8de7-4aaf-bdda-4755e944481d\",\"type\":\"CDSView\"},{\"attributes\":{\"active_drag\":\"auto\",\"active_inspect\":\"auto\",\"active_scroll\":\"auto\",\"active_tap\":\"auto\",\"logo\":null,\"tools\":[{\"id\":\"e55ac075-92ae-46f3-b481-efe3ba1af5f1\",\"type\":\"HoverTool\"},{\"id\":\"d94097fa-09da-4708-a148-80257d148685\",\"type\":\"PanTool\"},{\"id\":\"bdb5d2fb-6401-42fb-af0c-21c2f490f604\",\"type\":\"ResetTool\"},{\"id\":\"bfa5a8d0-ae0e-4cc4-be6a-24c701f7c39a\",\"type\":\"SaveTool\"}]},\"id\":\"0da8ca67-abc9-4e33-8f69-eefa052f97ef\",\"type\":\"Toolbar\"},{\"attributes\":{},\"id\":\"432c94e9-5f8d-46af-89e6-1ea9fa85024b\",\"type\":\"BasicTicker\"},{\"attributes\":{\"months\":[0,6]},\"id\":\"ad9f50da-fc3e-4f41-af55-135641e9c820\",\"type\":\"MonthsTicker\"},{\"attributes\":{\"days\":[1,8,15,22]},\"id\":\"d5aada4c-1701-4f46-87e0-f55de654f5c4\",\"type\":\"DaysTicker\"},{\"attributes\":{\"days\":[1,4,7,10,13,16,19,22,25,28]},\"id\":\"25f758ef-2ebe-4c10-8f78-e9ee6ab03e15\",\"type\":\"DaysTicker\"},{\"attributes\":{},\"id\":\"ce46c96d-7079-40d3-8249-d164bb7a5a8d\",\"type\":\"SaveTool\"},{\"attributes\":{\"axis_label\":\"CUMULATIVE GDD\",\"axis_label_text_font_size\":{\"value\":\"20pt\"},\"formatter\":{\"id\":\"6ed610ee-130f-4542-99d6-9fcfbce8f925\",\"type\":\"BasicTickFormatter\"},\"plot\":{\"id\":\"8d5bed55-f1da-48fa-9aa7-b81c1c86c4e2\",\"subtype\":\"Figure\",\"type\":\"Plot\"},\"ticker\":{\"id\":\"effddb24-0788-482e-9757-5caf25045bbe\",\"type\":\"BasicTicker\"}},\"id\":\"5c9e51b9-c924-49d1-9473-fbb4cae6ea4e\",\"type\":\"LinearAxis\"},{\"attributes\":{},\"id\":\"6ed610ee-130f-4542-99d6-9fcfbce8f925\",\"type\":\"BasicTickFormatter\"},{\"attributes\":{\"line_color\":{\"value\":\"blue\"},\"line_width\":{\"value\":2},\"x\":{\"field\":\"Date\"},\"y\":{\"field\":\"Cum_GDD\"}},\"id\":\"4196df67-6677-4541-9cdd-a0bbac39e7cb\",\"type\":\"Line\"},{\"attributes\":{},\"id\":\"e07b17e0-60ab-4679-8339-b7184072538e\",\"type\":\"DatetimeTickFormatter\"},{\"attributes\":{\"callback\":null},\"id\":\"22439043-898c-487c-b11a-a0faad5a190e\",\"type\":\"DataRange1d\"},{\"attributes\":{\"fill_color\":{\"value\":\"#1f77b4\"},\"line_color\":{\"value\":\"#1f77b4\"},\"x\":{\"field\":\"Date\"},\"y\":{\"field\":\"Cum_GDD\"}},\"id\":\"84706f77-075d-4d02-a9c4-e3ba804d629c\",\"type\":\"Circle\"},{\"attributes\":{},\"id\":\"fb9763bf-c173-4881-8202-7c7c5ec72b8f\",\"type\":\"YearsTicker\"},{\"attributes\":{\"months\":[0,2,4,6,8,10]},\"id\":\"d26daa0e-ff6f-476a-a57b-6dd4a05d14c8\",\"type\":\"MonthsTicker\"},{\"attributes\":{\"fill_alpha\":{\"value\":0.1},\"fill_color\":{\"value\":\"#1f77b4\"},\"line_alpha\":{\"value\":0.1},\"line_color\":{\"value\":\"#1f77b4\"},\"x\":{\"field\":\"Date\"},\"y\":{\"field\":\"Cum_GDD\"}},\"id\":\"80590cb8-5b40-4adf-b035-931928f4b6ef\",\"type\":\"Circle\"},{\"attributes\":{\"plot\":{\"id\":\"8d5bed55-f1da-48fa-9aa7-b81c1c86c4e2\",\"subtype\":\"Figure\",\"type\":\"Plot\"},\"ticker\":{\"id\":\"745f7544-cf81-4dac-a218-857b1615c838\",\"type\":\"DatetimeTicker\"}},\"id\":\"55367df3-e69d-413e-b2c9-01c1452f71f9\",\"type\":\"Grid\"},{\"attributes\":{},\"id\":\"effddb24-0788-482e-9757-5caf25045bbe\",\"type\":\"BasicTicker\"},{\"attributes\":{},\"id\":\"bdb5d2fb-6401-42fb-af0c-21c2f490f604\",\"type\":\"ResetTool\"},{\"attributes\":{\"callback\":null,\"column_names\":[\"Date\",\"Cum_GDD\",\"GDD\",\"date_formatted\"],\"data\":{\"Cum_GDD\":{\"__ndarray__\":\"AAAAAAAAAABmZmZmZmYqQJmZmZmZGTlAAAAAAACAQ0BmZmZmZuZKQJqZmZmZuVBAzczMzMxMVECamZmZmblXQGdmZmZm5ltANDMzMzNzX0DNzMzMzKxhQDMzMzMzs2NAMzMzMzMzZUAzMzMzMzNnQGZmZmZmNmlAmZmZmZkZa0CZmZmZmWlsQDMzMzMzU25AZmZmZmYecEDMzMzMzKxwQDIzMzMzc3FAMjMzMzNTckCYmZmZmVFzQP7/////T3RAZGZmZmZedUD+/////3d2QP7/////j3dA/v////93eEAxMzMzM2t5QMvMzMzMdHpA/v////9fe0CYmZmZmUF8QGVmZmZmRn1AmJmZmZlRfkD+/////29/QP//////Q4BAmZmZmZmxgEDMzMzMzByBQMzMzMzMjIFAmZmZmZn9gUD//////2+CQP//////14JAzMzMzMxMg0BmZmZmZsqDQAAAAAAATIRAAAAAAACwhEBmZmZmZhqFQMzMzMzMhIVAMjMzMzP7hUD//////3OGQJmZmZmZ7YZA//////9jh0DMzMzMzNiHQMzMzMzMWIhAmZmZmZnZiEBmZmZmZl6JQMzMzMzM5IlAmZmZmZlxikAzMzMzM/OKQAAAAAAAcItAzczMzMzwi0BnZmZmZnaMQM3MzMzMCI1AMzMzMzOXjUCZmZmZmS2OQP//////x45AzMzMzMxgj0BmZmZmZvqPQGZmZmZmSJBAZmZmZmaQkECZmZmZmdWQQP//////EZFA//////9dkUAyMzMzM6eRQDIzMzMz85FAMjMzMzNBkkBlZmZmZn6SQJiZmZkZv5JAy8zMzEwDk0D+/////0qTQDEzMzMzlpNAy8zMzMzjk0CYmZmZmSyUQGVmZmZme5RAZWZmZmbHlED//////xiVQMzMzMzMaZVAMjMzMzO4lUBlZmZmZgeWQGVmZmZmV5ZA//////+qlkD///////yWQGVmZmZmTZdAMjMzMzOkl0AyMzMzM/aXQJiZmZmZTJhAZWZmZmabmECYmZmZmeiYQJiZmZmZOJlAy8zMzMyJmUDLzMzMzN2ZQDEzMzMzNJpAZGZmZmZ7mkAxMzMzM8iaQP7/////GJtAmJmZmZlsm0DLzMzMzL2bQMvMzMzMCZxAMTMzMzNUnEDLzMzMzJucQGVmZmZm55xAZWZmZmY1nUD//////4KdQMzMzMzM0Z1A//////8gnkD//////3CeQJmZmZmZwp5A//////8Un0DMzMzMzGmfQDIzMzMzvp9AmZmZmRkKoEAzMzMzsy2gQAAAAACAUaBAAAAAAIB3oECamZmZGaCgQGdmZmbmxqBAzczMzEzqoEAzMzMzswqhQAAAAACALKFAZmZmZuZOoUBmZmZm5mqhQGZmZmbmh6FAzMzMzEypoUDMzMzMTMyhQP////9/8KFAmZmZmRkQokD/////fzKiQGVmZmbmVKJAZWZmZuZ0okD/////f5miQMzMzMxMuqJAmZmZmRnWokDMzMzMTPGiQGZmZmbmEqNAMzMzM7Mzo0AAAAAAgFSjQM3MzMxMdaNAmpmZmRmWo0BnZmZm5rajQDQzMzOz16NAAQAAAID4o0DOzMzMTBmkQJuZmZkZOqRAaGZmZuZapEA1MzMzs3ukQAIAAACAnKRAz8zMzEy9pECcmZmZGd6kQGlmZmbm/qRANjMzM7MfpUADAAAAgEClQNDMzMxMYaVAnZmZmRmCpUBqZmZm5qKlQDczMzOzw6VABAAAAIDkpUDRzMzMTAWmQJ6ZmZkZJqZAa2ZmZuZGpkA4MzMzs2emQAUAAACAiKZA0szMzEyppkCfmZmZGcqmQGxmZmbm6qZAOTMzM7MLp0AGAAAAgCynQNPMzMxMTadA\",\"dtype\":\"float64\",\"shape\":[177]},\"Date\":{\"__ndarray__\":\"AABAUcu6dUIAAAC3Hbt1QgAAwBxwu3VCAACAgsK7dUIAAEDoFLx1QgAAAE5nvHVCAADAs7m8dUIAAIAZDL11QgAAQH9evXVCAAAA5bC9dUIAAMBKA751QgAAgLBVvnVCAABAFqi+dUIAAAB8+r51QgAAwOFMv3VCAACAR5+/dUIAAECt8b91QgAAABNEwHVCAADAeJbAdUIAAIDe6MB1QgAAQEQ7wXVCAAAAqo3BdUIAAMAP4MF1QgAAgHUywnVCAABA24TCdUIAAABB18J1QgAAwKYpw3VCAACADHzDdUIAAEByzsN1QgAAANggxHVCAADAPXPEdUIAAICjxcR1QgAAQAkYxXVCAAAAb2rFdUIAAMDUvMV1QgAAgDoPxnVCAABAoGHGdUIAAAAGtMZ1QgAAwGsGx3VCAACA0VjHdUIAAEA3q8d1QgAAAJ39x3VCAADAAlDIdUIAAIBoosh1QgAAQM70yHVCAAAANEfJdUIAAMCZmcl1QgAAgP/ryXVCAABAZT7KdUIAAADLkMp1QgAAwDDjynVCAACAljXLdUIAAED8h8t1QgAAAGLay3VCAADAxyzMdUIAAIAtf8x1QgAAQJPRzHVCAAAA+SPNdUIAAMBeds11QgAAgMTIzXVCAABAKhvOdUIAAACQbc51QgAAwPW/znVCAACAWxLPdUIAAEDBZM91QgAAACe3z3VCAADAjAnQdUIAAIDyW9B1QgAAQFiu0HVCAAAAvgDRdUIAAMAjU9F1QgAAgIml0XVCAABA7/fRdUIAAABVStJ1QgAAwLqc0nVCAACAIO/SdUIAAECGQdN1QgAAAOyT03VCAADAUebTdUIAAIC3ONR1QgAAQB2L1HVCAAAAg93UdUIAAMDoL9V1QgAAgE6C1XVCAABAtNTVdUIAAAAaJ9Z1QgAAwH951nVCAACA5cvWdUIAAEBLHtd1QgAAALFw13VCAADAFsPXdUIAAIB8Fdh1QgAAQOJn2HVCAAAASLrYdUIAAMCtDNl1QgAAgBNf2XVCAABAebHZdUIAAADfA9p1QgAAwERW2nVCAACAqqjadUIAAEAQ+9p1QgAAAHZN23VCAADA25/bdUIAAIBB8tt1QgAAQKdE3HVCAAAADZfcdUIAAMBy6dx1QgAAgNg73XVCAABAPo7ddUIAAACk4N11QgAAwAkz3nVCAACAb4XedUIAAEDV1951QgAAADsq33VCAADAoHzfdUIAAIAGz991QgAAQGwh4HVCAAAA0nPgdUIAAMA3xuB1QgAAgJ0Y4XVCAABAA2vhdUIAAABpveF1QgAAwM4P4nVCAACANGLidUIAAECatOJ1QgAAAAAH43VCAADAZVnjdUIAAIDLq+N1QgAAQDH+43VCAAAAl1DkdUIAAMD8ouR1QgAAgGL15HVCAABAyEfldUIAAAAumuV1QgAAwJPs5XVCAACA+T7mdUIAAEBfkeZ1QgAAAMXj5nVCAADAKjbndUIAAICQiOd1QgAAQPba53VCAAAAXC3odUIAAMDBf+h1QgAAgCfS6HVCAABAjSTpdUIAAADzdul1QgAAwFjJ6XVCAACAvhvqdUIAAEAkbup1QgAAAIrA6nVCAADA7xLrdUIAAIBVZet1QgAAQLu363VCAAAAIQrsdUIAAMCGXOx1QgAAgOyu7HVCAABAUgHtdUIAAAC4U+11QgAAwB2m7XVCAACAg/jtdUIAAEDpSu51QgAAAE+d7nVCAADAtO/udUIAAIAaQu91QgAAQICU73VCAAAA5ubvdUIAAMBLOfB1QgAAgLGL8HVCAABAF97wdUIAAAB9MPF1QgAAwOKC8XVCAACASNXxdUIAAECuJ/J1QgAAABR68nVCAADAeczydUIAAIDfHvN1QgAAQEVx83VC\",\"dtype\":\"float64\",\"shape\":[177]},\"GDD\":{\"__ndarray__\":\"AAAAAAAAAABmZmZmZmYqQMzMzMzMzCdAzMzMzMzMK0CamZmZmZktQDQzMzMzMypAmpmZmZmZLEBmZmZmZmYrQDMzMzMzszBAZmZmZmZmLEA0MzMzMzMvQDMzMzMzMzBAAAAAAAAAKEAAAAAAAAAwQJqZmZmZGTBANDMzMzMzLkAAAAAAAAAlQJqZmZmZmS5AmpmZmZmZLkDMzMzMzMwhQMzMzMzMzChAAAAAAAAALEDMzMzMzMwvQMzMzMzMzC9AZmZmZmbmMECamZmZmZkxQAAAAAAAgDFAAAAAAAAALUBmZmZmZmYuQJqZmZmZmTBAZmZmZmZmLUA0MzMzMzMsQM3MzMzMTDBAMzMzMzOzMEBmZmZmZuYxQAAAAAAAgDFAZmZmZmZmK0DMzMzMzMwqQAAAAAAAACxANDMzMzMzLECamZmZmZksQAAAAAAAACpANDMzMzMzLUBmZmZmZmYvQDMzMzMzMzBAAAAAAAAAKUCamZmZmZkqQJqZmZmZmSpAmpmZmZmZLUA0MzMzMzMuQGZmZmZmZi5AmpmZmZmZLUA0MzMzMzMtQAAAAAAAADBAmpmZmZkZMECamZmZmZkwQM3MzMzMzDBAmpmZmZmZMUAzMzMzMzMwQDQzMzMzMy9AmpmZmZkZMEAzMzMzM7MwQM3MzMzMTDJAzczMzMzMMUDNzMzMzMwyQM3MzMzMTDNAmpmZmZkZM0AzMzMzMzMzQM3MzMzMzDJAAAAAAAAAMkDNzMzMzEwxQDQzMzMzMy5AAAAAAAAAM0DNzMzMzEwyQAAAAAAAADNAAAAAAACAM0CamZmZmZkuQM3MzMzMLDBAzczMzMwMMUDNzMzMzOwxQM3MzMzMzDJAZmZmZmZmM0AzMzMzMzMyQDMzMzMzszNAAAAAAAAAM0BmZmZmZmY0QDMzMzMzMzRAmpmZmZmZM0DNzMzMzMwzQAAAAAAAADRAZmZmZmbmNEAAAAAAAIA0QJqZmZmZGTRAMzMzMzOzNUAAAAAAAIA0QJqZmZmZmTVAMzMzMzOzM0DNzMzMzEwzQAAAAAAAADRAzczMzMxMNEAAAAAAAAA1QJqZmZmZmTVAzczMzMzMMUAzMzMzMzMzQDMzMzMzMzRAZmZmZmbmNEDNzMzMzEw0QAAAAAAAADNAmpmZmZmZMkBmZmZmZuYxQGZmZmZm5jJAAAAAAACAM0BmZmZmZmYzQDMzMzMzszNAzczMzMzMM0AAAAAAAAA0QGZmZmZmZjRAmpmZmZmZNEAzMzMzMzM1QJqZmZmZGTVAAAAAAACANUDNzMzMzMwxQGZmZmZm5jFAAAAAAAAAM0DNzMzMzEw0QGZmZmZmZjNAMzMzMzOzMUAzMzMzMzMwQGZmZmZm5jBAMzMzMzMzMUAAAAAAAAAsQAAAAAAAAC1AMzMzMzOzMEAAAAAAAIAxQJqZmZmZGTJAmpmZmZmZL0AzMzMzMzMxQDMzMzMzMzFAAAAAAAAAMEDNzMzMzEwyQGZmZmZmZjBAzMzMzMzMK0A0MzMzMzMrQM3MzMzMzDBAZmZmZmZmMEBmZmZmZmYwQGZmZmZmZjBAZmZmZmZmMEBmZmZmZmYwQGZmZmZmZjBAZmZmZmZmMEBmZmZmZmYwQGZmZmZmZjBAZmZmZmZmMEBmZmZmZmYwQGZmZmZmZjBAZmZmZmZmMEBmZmZmZmYwQGZmZmZmZjBAZmZmZmZmMEBmZmZmZmYwQGZmZmZmZjBAZmZmZmZmMEBmZmZmZmYwQGZmZmZmZjBAZmZmZmZmMEBmZmZmZmYwQGZmZmZmZjBAZmZmZmZmMEBmZmZmZmYwQGZmZmZmZjBAZmZmZmZmMEBmZmZmZmYwQGZmZmZmZjBAZmZmZmZmMEBmZmZmZmYwQGZmZmZmZjBA\",\"dtype\":\"float64\",\"shape\":[177]},\"date_formatted\":[\"2017-04-27\",\"2017-04-28\",\"2017-04-29\",\"2017-04-30\",\"2017-05-01\",\"2017-05-02\",\"2017-05-03\",\"2017-05-04\",\"2017-05-05\",\"2017-05-06\",\"2017-05-07\",\"2017-05-08\",\"2017-05-09\",\"2017-05-10\",\"2017-05-11\",\"2017-05-12\",\"2017-05-13\",\"2017-05-14\",\"2017-05-15\",\"2017-05-16\",\"2017-05-17\",\"2017-05-18\",\"2017-05-19\",\"2017-05-20\",\"2017-05-21\",\"2017-05-22\",\"2017-05-23\",\"2017-05-24\",\"2017-05-25\",\"2017-05-26\",\"2017-05-27\",\"2017-05-28\",\"2017-05-29\",\"2017-05-30\",\"2017-05-31\",\"2017-06-01\",\"2017-06-02\",\"2017-06-03\",\"2017-06-04\",\"2017-06-05\",\"2017-06-06\",\"2017-06-07\",\"2017-06-08\",\"2017-06-09\",\"2017-06-10\",\"2017-06-11\",\"2017-06-12\",\"2017-06-13\",\"2017-06-14\",\"2017-06-15\",\"2017-06-16\",\"2017-06-17\",\"2017-06-18\",\"2017-06-19\",\"2017-06-20\",\"2017-06-21\",\"2017-06-22\",\"2017-06-23\",\"2017-06-24\",\"2017-06-25\",\"2017-06-26\",\"2017-06-27\",\"2017-06-28\",\"2017-06-29\",\"2017-06-30\",\"2017-07-01\",\"2017-07-02\",\"2017-07-03\",\"2017-07-04\",\"2017-07-05\",\"2017-07-06\",\"2017-07-07\",\"2017-07-08\",\"2017-07-09\",\"2017-07-10\",\"2017-07-11\",\"2017-07-12\",\"2017-07-13\",\"2017-07-14\",\"2017-07-15\",\"2017-07-16\",\"2017-07-17\",\"2017-07-18\",\"2017-07-19\",\"2017-07-20\",\"2017-07-21\",\"2017-07-22\",\"2017-07-23\",\"2017-07-24\",\"2017-07-25\",\"2017-07-26\",\"2017-07-27\",\"2017-07-28\",\"2017-07-29\",\"2017-07-30\",\"2017-07-31\",\"2017-08-01\",\"2017-08-02\",\"2017-08-03\",\"2017-08-04\",\"2017-08-05\",\"2017-08-06\",\"2017-08-07\",\"2017-08-08\",\"2017-08-09\",\"2017-08-10\",\"2017-08-11\",\"2017-08-12\",\"2017-08-13\",\"2017-08-14\",\"2017-08-15\",\"2017-08-16\",\"2017-08-17\",\"2017-08-18\",\"2017-08-19\",\"2017-08-20\",\"2017-08-21\",\"2017-08-22\",\"2017-08-23\",\"2017-08-24\",\"2017-08-25\",\"2017-08-26\",\"2017-08-27\",\"2017-08-28\",\"2017-08-29\",\"2017-08-30\",\"2017-08-31\",\"2017-09-01\",\"2017-09-02\",\"2017-09-03\",\"2017-09-04\",\"2017-09-05\",\"2017-09-06\",\"2017-09-07\",\"2017-09-08\",\"2017-09-09\",\"2017-09-10\",\"2017-09-11\",\"2017-09-12\",\"2017-09-13\",\"2017-09-14\",\"2017-09-15\",\"2017-09-16\",\"2017-09-17\",\"2017-09-18\",\"2017-09-19\",\"2017-09-20\",\"2017-09-21\",\"2017-09-22\",\"2017-09-23\",\"2017-09-24\",\"2017-09-25\",\"2017-09-26\",\"2017-09-27\",\"2017-09-28\",\"2017-09-29\",\"2017-09-30\",\"2017-10-01\",\"2017-10-02\",\"2017-10-03\",\"2017-10-04\",\"2017-10-05\",\"2017-10-06\",\"2017-10-07\",\"2017-10-08\",\"2017-10-09\",\"2017-10-10\",\"2017-10-11\",\"2017-10-12\",\"2017-10-13\",\"2017-10-14\",\"2017-10-15\",\"2017-10-16\",\"2017-10-17\",\"2017-10-18\",\"2017-10-19\",\"2017-10-20\"]}},\"id\":\"245254c5-ade6-4eba-b9c3-d61fc55288ae\",\"type\":\"ColumnDataSource\"},{\"attributes\":{\"dimension\":1,\"plot\":{\"id\":\"ee16fe5a-d3df-4de8-a964-38fcf4b337b8\",\"subtype\":\"Figure\",\"type\":\"Plot\"},\"ticker\":{\"id\":\"89d8c397-b464-4d4b-84f8-b4221358426b\",\"type\":\"BasicTicker\"}},\"id\":\"0a5de336-2685-459e-acc2-4ffbc8726ad7\",\"type\":\"Grid\"},{\"attributes\":{\"days\":[1,4,7,10,13,16,19,22,25,28]},\"id\":\"6d98184f-1217-46b8-ad37-de7f9db89ed6\",\"type\":\"DaysTicker\"},{\"attributes\":{\"axis_label\":\"DATE\",\"axis_label_text_font_size\":{\"value\":\"20pt\"},\"formatter\":{\"id\":\"e07b17e0-60ab-4679-8339-b7184072538e\",\"type\":\"DatetimeTickFormatter\"},\"plot\":{\"id\":\"30117e2d-e3ed-4405-b755-759eecb24fc4\",\"subtype\":\"Figure\",\"type\":\"Plot\"},\"ticker\":{\"id\":\"063c5058-4180-4186-a7f4-d35481f57188\",\"type\":\"DatetimeTicker\"}},\"id\":\"0bfe2037-1441-45e2-9018-bc6df9784bbf\",\"type\":\"DatetimeAxis\"},{\"attributes\":{},\"id\":\"9254c9ef-9f80-40dd-85b5-430760e391e3\",\"type\":\"YearsTicker\"},{\"attributes\":{\"dimension\":1,\"plot\":{\"id\":\"30117e2d-e3ed-4405-b755-759eecb24fc4\",\"subtype\":\"Figure\",\"type\":\"Plot\"},\"ticker\":{\"id\":\"432c94e9-5f8d-46af-89e6-1ea9fa85024b\",\"type\":\"BasicTicker\"}},\"id\":\"d89d5a9b-97b3-4640-8d49-26ceef066d3c\",\"type\":\"Grid\"},{\"attributes\":{\"line_alpha\":{\"value\":0.1},\"line_color\":{\"value\":\"#1f77b4\"},\"line_width\":{\"value\":2},\"x\":{\"field\":\"Date\"},\"y\":{\"field\":\"Cum_GDD\"}},\"id\":\"77a89207-cf7b-4c7d-9043-331b10fb6258\",\"type\":\"Line\"},{\"attributes\":{},\"id\":\"d8cbc07d-a825-4880-bf30-fd64e40229cf\",\"type\":\"LinearScale\"}],\"root_ids\":[\"4ba230ca-ffa8-4e74-8056-6256f542678d\"]},\"title\":\"Bokeh Application\",\"version\":\"0.12.9\"}};\n",
       "    var render_items = [{\"docid\":\"f11c8640-d82e-4d49-ac8e-b978cc23c712\",\"elementid\":\"b677bbe3-6233-4008-a818-ec06619df825\",\"modelid\":\"4ba230ca-ffa8-4e74-8056-6256f542678d\"}];\n",
       "\n",
       "    root.Bokeh.embed.embed_items(docs_json, render_items);\n",
       "  }\n",
       "\n",
       "  if (root.Bokeh !== undefined) {\n",
       "    embed_document(root);\n",
       "  } else {\n",
       "    var attempts = 0;\n",
       "    var timer = setInterval(function(root) {\n",
       "      if (root.Bokeh !== undefined) {\n",
       "        embed_document(root);\n",
       "        clearInterval(timer);\n",
       "      }\n",
       "      attempts++;\n",
       "      if (attempts > 100) {\n",
       "        console.log(\"Bokeh: ERROR: Unable to embed document because BokehJS library is missing\")\n",
       "        clearInterval(timer);\n",
       "      }\n",
       "    }, 10, root)\n",
       "  }\n",
       "})(window);"
      ],
      "application/vnd.bokehjs_exec.v0+json": ""
     },
     "metadata": {
      "application/vnd.bokehjs_exec.v0+json": {
       "id": "4ba230ca-ffa8-4e74-8056-6256f542678d"
      }
     },
     "output_type": "display_data"
    }
   ],
   "source": [
    "tab1 = plotTab(dfA,'BLOCK A');tab3 = plotTab(dfC,'BLOCK C');tab4 = plotTab(dfD,'BLOCK D')\n",
    "layout = Tabs(tabs=[tab1, tab3, tab4]) \n",
    "show (layout)"
   ]
  },
  {
   "cell_type": "markdown",
   "metadata": {
    "slideshow": {
     "slide_type": "slide"
    }
   },
   "source": [
    "<h1 style=\"font-family: Arial; font-size:2.6em;color:purple; font-style:bold; text-align: center;\"><br>\n",
    "Thank You </h1>\n",
    "*******\n",
    "   ###  github : denisDPR\n",
    "   \n",
    "   \n",
    "\n",
    "   ### twitter ; denispastoty"
   ]
  }
 ],
 "metadata": {
  "celltoolbar": "Slideshow",
  "kernelspec": {
   "display_name": "Python 2",
   "language": "python",
   "name": "python2"
  },
  "language_info": {
   "codemirror_mode": {
    "name": "ipython",
    "version": 2
   },
   "file_extension": ".py",
   "mimetype": "text/x-python",
   "name": "python",
   "nbconvert_exporter": "python",
   "pygments_lexer": "ipython2",
   "version": "2.7.14"
  }
 },
 "nbformat": 4,
 "nbformat_minor": 2
}
