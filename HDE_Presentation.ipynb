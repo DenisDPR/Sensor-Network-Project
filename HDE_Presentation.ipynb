{
 "cells": [
  {
   "cell_type": "markdown",
   "metadata": {
    "slideshow": {
     "slide_type": "slide"
    }
   },
   "source": [
    "<img src=\"tomato_apple1.png\" style=\"text-align: center;\"><br>\n",
    "<h1 style=\"font-family: Arial; font-size:0.6em;color:purple; text-align: center;font-style:bold\">Denis Pastory</h1>\n",
    "<h1 style=\"font-family: Arial; font-size:0.6em;color:purple; text-align: center;font-style:bold\">Graduate Research Assistant</h1>\n",
    "<h1 style=\"font-family: Arial; font-size:0.6em;color:purple; text-align: center;font-style:bold\">Laboratory of Information Network</h1>\n",
    "<h1 style=\"font-family: Arial; font-size:0.6em;color:purple; text-align: center;font-style:bold\">Tokyo University of Agriculture</h1>\n"
   ]
  },
  {
   "cell_type": "markdown",
   "metadata": {
    "slideshow": {
     "slide_type": "skip"
    }
   },
   "source": [
    "<h1 style=\"font-family: Arial; font-size:2.6em;color:purple; font-style:bold; text-align: center;\"><br>\n",
    "A Real-time Environmental Monitoring and Analysis<br>\n",
    "For a Simplified Smart Agriculture System</h1>\n"
   ]
  },
  {
   "cell_type": "markdown",
   "metadata": {
    "slideshow": {
     "slide_type": "subslide"
    }
   },
   "source": [
    "<h1 style=\"font-family: Arial; font-size:2.65em;color:purple; font-style:bold\">Objective</h1>\n",
    "<p style=\"font-family: Arial; font-size:1.50em;color:#4462C0; font-style:bold\">  \n",
    "    - to show how real-time wireless sensor data is used for crop environment monitoring<br><br>\n",
    "    \n",
    "    - To analyze crop development stages in greenhouse<br><br></p>"
   ]
  },
  {
   "cell_type": "markdown",
   "metadata": {
    "scrolled": false,
    "slideshow": {
     "slide_type": "subslide"
    }
   },
   "source": [
    "<p style=\"font-family: Arial;text-align: center; font-size:1.70em;color:#2462C0; font-style:bold\">Wireless Sensor in Tomato Greenhouse </p>\n",
    "<img src=\"sensor.png\" style=\"width: 800px; height: 500px; padding-left: 6cm;\">"
   ]
  },
  {
   "cell_type": "code",
   "execution_count": 1,
   "metadata": {
    "scrolled": false,
    "slideshow": {
     "slide_type": "skip"
    }
   },
   "outputs": [],
   "source": [
    "import PIL\n",
    "from PIL import Image\n",
    "basewidth = 850\n",
    "img = Image.open('netatmo.png')\n",
    "wpercent = (basewidth / float(img.size[0]))\n",
    "hsize = int((float(img.size[1]) * float(wpercent)))\n",
    "img = img.resize((basewidth, hsize), PIL.Image.ANTIALIAS)\n",
    "img.save('resized_netatmo.png')"
   ]
  },
  {
   "cell_type": "markdown",
   "metadata": {
    "slideshow": {
     "slide_type": "subslide"
    }
   },
   "source": [
    "<p style=\"font-family: Arial;text-align: center; font-size:1.30em;color:#2462C0; font-style:bold\">Wireless Sensor Dashboard </p>\n",
    "<img src=\"resized_netatmo.png\" style=\"width: 950px; height: 500px; padding-left: 7cm;\">"
   ]
  },
  {
   "cell_type": "markdown",
   "metadata": {
    "slideshow": {
     "slide_type": "subslide"
    }
   },
   "source": [
    "<p style=\"font-family: Arial;text-align: center; font-size:1.70em;color:#2462C0; font-style:bold\">Daily Temp Table </p>\n",
    "<img src=\"daily_sensor.png\" style=\"width: 950px; height: 500px; padding-left: 5cm;\">"
   ]
  },
  {
   "cell_type": "markdown",
   "metadata": {
    "slideshow": {
     "slide_type": "slide"
    }
   },
   "source": [
    "<p style=\"font-family: Arial;text-align: center; font-size:1.70em;color:#2462C0; font-style:bold\">Web Database - Daily Activity input</p>\n",
    "<img src=\"web_db.png\" style=\"width: 900px; height: 500px; padding-left: 5cm;\">"
   ]
  },
  {
   "cell_type": "markdown",
   "metadata": {
    "slideshow": {
     "slide_type": "subslide"
    }
   },
   "source": [
    "<p style=\"font-family: Arial;text-align: center; font-size:1.70em;color:#2462C0; font-style:bold\">Distribution of Sensors</p>\n",
    "<img src=\"toguPlan.png\" style=\"width: 950px; height: 600px; padding-left: 5cm;\">"
   ]
  },
  {
   "cell_type": "markdown",
   "metadata": {
    "slideshow": {
     "slide_type": "subslide"
    }
   },
   "source": [
    "<p style=\"font-family: Arial;text-align: center; font-size:1.70em;color:#2462C0; font-style:bold\">Crop calender Table </p>\n",
    "<img src=\"crop_calender1.png\" style=\"width: 950px; height: 500px; padding-left: 5cm;\">"
   ]
  },
  {
   "cell_type": "markdown",
   "metadata": {
    "slideshow": {
     "slide_type": "slide"
    }
   },
   "source": [
    "\n",
    "<h1 style=\"font-family: Arial; font-size:2.65em;color:purple; font-style:bold\">STEPS</h1>\n",
    "<p style=\"font-family: Arial; font-size:1.40em;color:#4462C0; font-style:bold\"> \n",
    "- Load all modules<br>\n",
    "- Get data from  Database<br>\n",
    "- Query specific sensors, Block, specie(varierty)<br>\n",
    "- get df  between specific growth period<br>\n",
    "- Computation of Growing Degree Days (GDD) / cumulative GDD<br>\n",
    "- Plot our results<br>\n",
    "</p>"
   ]
  },
  {
   "cell_type": "markdown",
   "metadata": {
    "slideshow": {
     "slide_type": "slide"
    }
   },
   "source": [
    "## Load all modules "
   ]
  },
  {
   "cell_type": "code",
   "execution_count": 2,
   "metadata": {
    "slideshow": {
     "slide_type": "-"
    }
   },
   "outputs": [],
   "source": [
    "import sys \n",
    "import pymysql\n",
    "import  datetime\n",
    "import numpy as np\n",
    "import pandas as  pd\n",
    "import  datetime as   dt\n",
    "from  calendar import timegm\n",
    "from bokeh.io import export_png\n",
    "from IPython.display import IFrame\n",
    "from   time import  gmtime, strftime\n",
    "from  bokeh.io   import   output_notebook\n",
    "from bokeh.models.widgets import Tabs, Panel\n",
    "from bokeh.layouts import row, column, gridplot\n",
    "from bokeh.plotting import figure, output_file, show\n",
    "from bokeh.models import ColumnDataSource,HoverTool,Range1d"
   ]
  },
  {
   "cell_type": "code",
   "execution_count": 3,
   "metadata": {
    "slideshow": {
     "slide_type": "skip"
    }
   },
   "outputs": [],
   "source": [
    "conn = pymysql.connect(host = 'xxxxx', port= xxxx, user ='xxxx', passwd = 'xxxxx', db = 'xxxx')\n"
   ]
  },
  {
   "cell_type": "markdown",
   "metadata": {
    "slideshow": {
     "slide_type": "slide"
    }
   },
   "source": [
    "### connect to database\n"
   ]
  },
  {
   "cell_type": "code",
   "execution_count": 4,
   "metadata": {
    "slideshow": {
     "slide_type": "-"
    }
   },
   "outputs": [],
   "source": [
    "cursor1 = conn.cursor()\n",
    "cursor2 = conn.cursor()\n",
    "\n",
    "cursor1.execute('SELECT sdate,ROUND((max_temp+min_temp)/2,1), sensor FROM daily_temp ORDER BY sdate ASC')\n",
    "cursor2.execute('SELECT DISTINCT block,vid,planting, harvesting FROM toguchi_plant WHERE  planting IN (SELECT Planting FROM toguchi_plant) ORDER BY planting DESC')\n",
    "\n",
    "result1 = cursor1.fetchall()\n",
    "result2 = cursor2.fetchall()\n",
    "\n",
    "df1 = pd.DataFrame( [[ij for ij in i] for i in result1] )\n",
    "df2 = pd.DataFrame( [[ij for ij in i] for i in result2] )\n",
    "\n",
    "df1.rename(columns={0: 'Date', 1:'Mean_T', 2:'sensor'}, inplace=True);\n",
    "df2.rename(columns={0: 'block', 1: 'vid', 2: 'startPlant', 3: 'startHarv'}, inplace=True);\n",
    "if cursor1 and conn:\n",
    "    cursor1.close()\n",
    "if cursor2 and conn:\n",
    "    cursor2.close()\n",
    "    conn.close()    "
   ]
  },
  {
   "cell_type": "markdown",
   "metadata": {
    "slideshow": {
     "slide_type": "slide"
    }
   },
   "source": [
    "### let's view our data"
   ]
  },
  {
   "cell_type": "code",
   "execution_count": 5,
   "metadata": {
    "slideshow": {
     "slide_type": "-"
    }
   },
   "outputs": [
    {
     "data": {
      "text/html": [
       "<div>\n",
       "<style>\n",
       "    .dataframe thead tr:only-child th {\n",
       "        text-align: right;\n",
       "    }\n",
       "\n",
       "    .dataframe thead th {\n",
       "        text-align: left;\n",
       "    }\n",
       "\n",
       "    .dataframe tbody tr th {\n",
       "        vertical-align: top;\n",
       "    }\n",
       "</style>\n",
       "<table border=\"1\" class=\"dataframe\">\n",
       "  <thead>\n",
       "    <tr style=\"text-align: right;\">\n",
       "      <th></th>\n",
       "      <th>block</th>\n",
       "      <th>vid</th>\n",
       "      <th>startPlant</th>\n",
       "      <th>startHarv</th>\n",
       "    </tr>\n",
       "  </thead>\n",
       "  <tbody>\n",
       "    <tr>\n",
       "      <th>0</th>\n",
       "      <td>C</td>\n",
       "      <td>v1</td>\n",
       "      <td>2017-07-18</td>\n",
       "      <td>2017-09-18</td>\n",
       "    </tr>\n",
       "    <tr>\n",
       "      <th>1</th>\n",
       "      <td>D</td>\n",
       "      <td>v1</td>\n",
       "      <td>2017-05-26</td>\n",
       "      <td>2017-07-25</td>\n",
       "    </tr>\n",
       "    <tr>\n",
       "      <th>2</th>\n",
       "      <td>A</td>\n",
       "      <td>v2</td>\n",
       "      <td>2017-04-27</td>\n",
       "      <td>2017-06-19</td>\n",
       "    </tr>\n",
       "    <tr>\n",
       "      <th>3</th>\n",
       "      <td>E</td>\n",
       "      <td>v1</td>\n",
       "      <td>2017-03-17</td>\n",
       "      <td>None</td>\n",
       "    </tr>\n",
       "    <tr>\n",
       "      <th>4</th>\n",
       "      <td>F</td>\n",
       "      <td>v1</td>\n",
       "      <td>2017-02-21</td>\n",
       "      <td>2017-05-08</td>\n",
       "    </tr>\n",
       "  </tbody>\n",
       "</table>\n",
       "</div>"
      ],
      "text/plain": [
       "  block vid  startPlant   startHarv\n",
       "0     C  v1  2017-07-18  2017-09-18\n",
       "1     D  v1  2017-05-26  2017-07-25\n",
       "2     A  v2  2017-04-27  2017-06-19\n",
       "3     E  v1  2017-03-17        None\n",
       "4     F  v1  2017-02-21  2017-05-08"
      ]
     },
     "execution_count": 5,
     "metadata": {},
     "output_type": "execute_result"
    }
   ],
   "source": [
    "df2.head()"
   ]
  },
  {
   "cell_type": "code",
   "execution_count": 6,
   "metadata": {
    "slideshow": {
     "slide_type": "-"
    }
   },
   "outputs": [
    {
     "data": {
      "text/html": [
       "<div>\n",
       "<style>\n",
       "    .dataframe thead tr:only-child th {\n",
       "        text-align: right;\n",
       "    }\n",
       "\n",
       "    .dataframe thead th {\n",
       "        text-align: left;\n",
       "    }\n",
       "\n",
       "    .dataframe tbody tr th {\n",
       "        vertical-align: top;\n",
       "    }\n",
       "</style>\n",
       "<table border=\"1\" class=\"dataframe\">\n",
       "  <thead>\n",
       "    <tr style=\"text-align: right;\">\n",
       "      <th></th>\n",
       "      <th>Date</th>\n",
       "      <th>Mean_T</th>\n",
       "      <th>sensor</th>\n",
       "    </tr>\n",
       "  </thead>\n",
       "  <tbody>\n",
       "    <tr>\n",
       "      <th>0</th>\n",
       "      <td>2017-04-28</td>\n",
       "      <td>23.2</td>\n",
       "      <td>02:00:00:28:8c:e6</td>\n",
       "    </tr>\n",
       "    <tr>\n",
       "      <th>1</th>\n",
       "      <td>2017-04-28</td>\n",
       "      <td>23.2</td>\n",
       "      <td>03:00:00:02:c5:f8</td>\n",
       "    </tr>\n",
       "    <tr>\n",
       "      <th>2</th>\n",
       "      <td>2017-04-28</td>\n",
       "      <td>23.2</td>\n",
       "      <td>03:00:00:05:05:30</td>\n",
       "    </tr>\n",
       "    <tr>\n",
       "      <th>3</th>\n",
       "      <td>2017-04-29</td>\n",
       "      <td>21.9</td>\n",
       "      <td>02:00:00:28:8c:e6</td>\n",
       "    </tr>\n",
       "    <tr>\n",
       "      <th>4</th>\n",
       "      <td>2017-04-29</td>\n",
       "      <td>21.9</td>\n",
       "      <td>03:00:00:02:c5:f8</td>\n",
       "    </tr>\n",
       "  </tbody>\n",
       "</table>\n",
       "</div>"
      ],
      "text/plain": [
       "         Date  Mean_T             sensor\n",
       "0  2017-04-28    23.2  02:00:00:28:8c:e6\n",
       "1  2017-04-28    23.2  03:00:00:02:c5:f8\n",
       "2  2017-04-28    23.2  03:00:00:05:05:30\n",
       "3  2017-04-29    21.9  02:00:00:28:8c:e6\n",
       "4  2017-04-29    21.9  03:00:00:02:c5:f8"
      ]
     },
     "execution_count": 6,
     "metadata": {},
     "output_type": "execute_result"
    }
   ],
   "source": [
    "df1.head()"
   ]
  },
  {
   "cell_type": "markdown",
   "metadata": {
    "slideshow": {
     "slide_type": "slide"
    }
   },
   "source": [
    "### Query Specific Sensor in Block"
   ]
  },
  {
   "cell_type": "code",
   "execution_count": 7,
   "metadata": {
    "slideshow": {
     "slide_type": "-"
    }
   },
   "outputs": [],
   "source": [
    "df2_A = df2.query('block == \"A\" & vid == \"v2\"')\n",
    "clean_df2_A = df2_A.drop(['block','vid'], 1)\n",
    "df1_A = df1.query('sensor == \"02:00:00:28:8c:e6\"')\n",
    "clean_df1_A = df1_A.drop('sensor',1)\n",
    "\n",
    "df2_C = df2.query('block == \"C\" & vid == \"v1\"')\n",
    "clean_df2_C = df2_C.drop(['block','vid'], 1)\n",
    "df1_C= df1.query('sensor == \"03:00:00:05:05:30\"')\n",
    "clean_df1_C = df1_C.drop('sensor',1)\n",
    "\n",
    "df2_D = df2.query('block == \"D\" & vid == \"v1\"')\n",
    "clean_df2_D = df2_D.drop(['block','vid'], 1)\n",
    "df1_D = df1.query('sensor == \"03:00:00:02:c5:f8\"')\n",
    "clean_df1_D = df1_D.drop('sensor',1)"
   ]
  },
  {
   "cell_type": "code",
   "execution_count": 8,
   "metadata": {
    "slideshow": {
     "slide_type": "subslide"
    }
   },
   "outputs": [
    {
     "data": {
      "text/html": [
       "<div>\n",
       "<style>\n",
       "    .dataframe thead tr:only-child th {\n",
       "        text-align: right;\n",
       "    }\n",
       "\n",
       "    .dataframe thead th {\n",
       "        text-align: left;\n",
       "    }\n",
       "\n",
       "    .dataframe tbody tr th {\n",
       "        vertical-align: top;\n",
       "    }\n",
       "</style>\n",
       "<table border=\"1\" class=\"dataframe\">\n",
       "  <thead>\n",
       "    <tr style=\"text-align: right;\">\n",
       "      <th></th>\n",
       "      <th>startPlant</th>\n",
       "      <th>startHarv</th>\n",
       "    </tr>\n",
       "  </thead>\n",
       "  <tbody>\n",
       "    <tr>\n",
       "      <th>0</th>\n",
       "      <td>2017-07-18</td>\n",
       "      <td>2017-09-18</td>\n",
       "    </tr>\n",
       "    <tr>\n",
       "      <th>7</th>\n",
       "      <td>2012-08-16</td>\n",
       "      <td>None</td>\n",
       "    </tr>\n",
       "    <tr>\n",
       "      <th>18</th>\n",
       "      <td>None</td>\n",
       "      <td>2010-03-16</td>\n",
       "    </tr>\n",
       "  </tbody>\n",
       "</table>\n",
       "</div>"
      ],
      "text/plain": [
       "    startPlant   startHarv\n",
       "0   2017-07-18  2017-09-18\n",
       "7   2012-08-16        None\n",
       "18        None  2010-03-16"
      ]
     },
     "execution_count": 8,
     "metadata": {},
     "output_type": "execute_result"
    }
   ],
   "source": [
    "clean_df2_C.head()"
   ]
  },
  {
   "cell_type": "code",
   "execution_count": 9,
   "metadata": {
    "slideshow": {
     "slide_type": "-"
    }
   },
   "outputs": [
    {
     "data": {
      "text/html": [
       "<div>\n",
       "<style>\n",
       "    .dataframe thead tr:only-child th {\n",
       "        text-align: right;\n",
       "    }\n",
       "\n",
       "    .dataframe thead th {\n",
       "        text-align: left;\n",
       "    }\n",
       "\n",
       "    .dataframe tbody tr th {\n",
       "        vertical-align: top;\n",
       "    }\n",
       "</style>\n",
       "<table border=\"1\" class=\"dataframe\">\n",
       "  <thead>\n",
       "    <tr style=\"text-align: right;\">\n",
       "      <th></th>\n",
       "      <th>Date</th>\n",
       "      <th>Mean_T</th>\n",
       "    </tr>\n",
       "  </thead>\n",
       "  <tbody>\n",
       "    <tr>\n",
       "      <th>0</th>\n",
       "      <td>2017-04-28</td>\n",
       "      <td>23.2</td>\n",
       "    </tr>\n",
       "    <tr>\n",
       "      <th>3</th>\n",
       "      <td>2017-04-29</td>\n",
       "      <td>21.9</td>\n",
       "    </tr>\n",
       "    <tr>\n",
       "      <th>6</th>\n",
       "      <td>2017-04-30</td>\n",
       "      <td>23.9</td>\n",
       "    </tr>\n",
       "    <tr>\n",
       "      <th>9</th>\n",
       "      <td>2017-05-01</td>\n",
       "      <td>24.8</td>\n",
       "    </tr>\n",
       "    <tr>\n",
       "      <th>12</th>\n",
       "      <td>2017-05-02</td>\n",
       "      <td>23.1</td>\n",
       "    </tr>\n",
       "  </tbody>\n",
       "</table>\n",
       "</div>"
      ],
      "text/plain": [
       "          Date  Mean_T\n",
       "0   2017-04-28    23.2\n",
       "3   2017-04-29    21.9\n",
       "6   2017-04-30    23.9\n",
       "9   2017-05-01    24.8\n",
       "12  2017-05-02    23.1"
      ]
     },
     "execution_count": 9,
     "metadata": {},
     "output_type": "execute_result"
    }
   ],
   "source": [
    "clean_df1_A.head()"
   ]
  },
  {
   "cell_type": "markdown",
   "metadata": {
    "slideshow": {
     "slide_type": "slide"
    }
   },
   "source": [
    "### ...now get df between certain growth period"
   ]
  },
  {
   "cell_type": "code",
   "execution_count": 10,
   "metadata": {
    "slideshow": {
     "slide_type": "-"
    }
   },
   "outputs": [],
   "source": [
    "def df1_df2(df11,df22):\n",
    "    \"\"\"\n",
    "    Take in two dataframes, from df22 we get the start and end date for date range. \n",
    "    The date range will get a complete df from df11\n",
    "    \"\"\"\n",
    "    startHarv_A= df22['startPlant'].iloc[0]\n",
    "    endHarv = dt.date.today()  \n",
    "    \n",
    "    full_range = pd.date_range(startHarv_A, endHarv)\n",
    "\n",
    "    df11.set_index(['Date'], inplace=True)\n",
    "    df_complete = df11.sort_index().reindex(full_range).interpolate(method='linear')\n",
    "    return df_complete"
   ]
  },
  {
   "cell_type": "code",
   "execution_count": 11,
   "metadata": {
    "slideshow": {
     "slide_type": "-"
    }
   },
   "outputs": [
    {
     "data": {
      "text/html": [
       "<div>\n",
       "<style>\n",
       "    .dataframe thead tr:only-child th {\n",
       "        text-align: right;\n",
       "    }\n",
       "\n",
       "    .dataframe thead th {\n",
       "        text-align: left;\n",
       "    }\n",
       "\n",
       "    .dataframe tbody tr th {\n",
       "        vertical-align: top;\n",
       "    }\n",
       "</style>\n",
       "<table border=\"1\" class=\"dataframe\">\n",
       "  <thead>\n",
       "    <tr style=\"text-align: right;\">\n",
       "      <th></th>\n",
       "      <th>Mean_T</th>\n",
       "    </tr>\n",
       "  </thead>\n",
       "  <tbody>\n",
       "    <tr>\n",
       "      <th>2017-07-18</th>\n",
       "      <td>28.5</td>\n",
       "    </tr>\n",
       "    <tr>\n",
       "      <th>2017-07-19</th>\n",
       "      <td>29.8</td>\n",
       "    </tr>\n",
       "    <tr>\n",
       "      <th>2017-07-20</th>\n",
       "      <td>28.9</td>\n",
       "    </tr>\n",
       "    <tr>\n",
       "      <th>2017-07-21</th>\n",
       "      <td>30.5</td>\n",
       "    </tr>\n",
       "    <tr>\n",
       "      <th>2017-07-22</th>\n",
       "      <td>30.6</td>\n",
       "    </tr>\n",
       "  </tbody>\n",
       "</table>\n",
       "</div>"
      ],
      "text/plain": [
       "            Mean_T\n",
       "2017-07-18    28.5\n",
       "2017-07-19    29.8\n",
       "2017-07-20    28.9\n",
       "2017-07-21    30.5\n",
       "2017-07-22    30.6"
      ]
     },
     "execution_count": 11,
     "metadata": {},
     "output_type": "execute_result"
    }
   ],
   "source": [
    "df_intepl = df1_df2(clean_df1_A,clean_df2_A)\n",
    "df_intep3 = df1_df2(clean_df1_C,clean_df2_C)\n",
    "df_intep4 = df1_df2(clean_df1_D,clean_df2_D)\n",
    "df_intep3.head()"
   ]
  },
  {
   "cell_type": "markdown",
   "metadata": {
    "slideshow": {
     "slide_type": "slide"
    }
   },
   "source": [
    "<p style=\"font-family: Arial; font-size:2.5em;color:purple; text-align: center;font-style:bold\">Growing Degree Days</p>\n",
    "<h2 style=\"font-family: Arial; font-size:1.7em;color:#2462C0; font-style:bold;text-align: center;\">  \n",
    "GDD are typically used to monitor crop development,the assumption being \n",
    "that development is limited once the temperatures exceed a certain threshold<br></h2>\n"
   ]
  },
  {
   "cell_type": "markdown",
   "metadata": {
    "slideshow": {
     "slide_type": "subslide"
    }
   },
   "source": [
    "<p style=\"font-family: Arial; font-size:2.9em;color:purple; text-align: center;font-style:bold\">Growing Degree Days</p>\n",
    "<img src=\"gdd1.png\" style=\"width: 800px; height: 300px; padding-left: 5cm;\">"
   ]
  },
  {
   "cell_type": "markdown",
   "metadata": {
    "slideshow": {
     "slide_type": "slide"
    }
   },
   "source": [
    "### Computation of GDD"
   ]
  },
  {
   "cell_type": "code",
   "execution_count": 12,
   "metadata": {
    "slideshow": {
     "slide_type": "-"
    }
   },
   "outputs": [],
   "source": [
    "# Function to Calculte GDD (Growing Degree Degree)\n",
    "def compute_gdd (Tmean,Tbase=10.0):\n",
    "    \"\"\"\n",
    "    Growing Degree Days (GDD) calculation based on reference \n",
    "    Temp of 10 Deg.Celsius Tmean = (Tmax + Tmin)/2\n",
    "    \n",
    "    \"\"\"\n",
    "    if Tbase <= Tmean:\n",
    "        return ((Tmean-Tbase))\n",
    "    else:\n",
    "        return (0)"
   ]
  },
  {
   "cell_type": "code",
   "execution_count": 13,
   "metadata": {
    "slideshow": {
     "slide_type": "-"
    }
   },
   "outputs": [],
   "source": [
    "df_intepl['GDD'] = df_intepl.apply(lambda row: compute_gdd(row['Mean_T']),axis=1)\n",
    "df_intep3['GDD'] = df_intep3.apply(lambda row: compute_gdd(row['Mean_T']),axis=1)\n",
    "df_intep4['GDD'] = df_intep4.apply(lambda row: compute_gdd(row['Mean_T']),axis=1)"
   ]
  },
  {
   "cell_type": "markdown",
   "metadata": {
    "slideshow": {
     "slide_type": "slide"
    }
   },
   "source": [
    "### Computation of cumulative GDD"
   ]
  },
  {
   "cell_type": "code",
   "execution_count": 14,
   "metadata": {
    "slideshow": {
     "slide_type": "-"
    }
   },
   "outputs": [],
   "source": [
    "#Function to calculate Cumulative GDD\n",
    "def full_df(df22):\n",
    "    \"\"\"\n",
    "    Takes in a df, reset its index and them calculates \n",
    "    the cumulative GDD\n",
    "    \n",
    "    \"\"\"\n",
    "    df22 = df22.reset_index(drop=False)\n",
    "    df22['Cum_GDD'] = df22.GDD.cumsum()\n",
    "    df = df22\n",
    "    return df"
   ]
  },
  {
   "cell_type": "code",
   "execution_count": 15,
   "metadata": {
    "slideshow": {
     "slide_type": "-"
    }
   },
   "outputs": [],
   "source": [
    "dfA = full_df(df_intepl)\n",
    "dfC = full_df(df_intep3)\n",
    "dfD = full_df(df_intep4)"
   ]
  },
  {
   "cell_type": "code",
   "execution_count": 16,
   "metadata": {
    "slideshow": {
     "slide_type": "-"
    }
   },
   "outputs": [
    {
     "data": {
      "text/html": [
       "<div>\n",
       "<style>\n",
       "    .dataframe thead tr:only-child th {\n",
       "        text-align: right;\n",
       "    }\n",
       "\n",
       "    .dataframe thead th {\n",
       "        text-align: left;\n",
       "    }\n",
       "\n",
       "    .dataframe tbody tr th {\n",
       "        vertical-align: top;\n",
       "    }\n",
       "</style>\n",
       "<table border=\"1\" class=\"dataframe\">\n",
       "  <thead>\n",
       "    <tr style=\"text-align: right;\">\n",
       "      <th></th>\n",
       "      <th>index</th>\n",
       "      <th>Mean_T</th>\n",
       "      <th>GDD</th>\n",
       "      <th>Cum_GDD</th>\n",
       "    </tr>\n",
       "  </thead>\n",
       "  <tbody>\n",
       "    <tr>\n",
       "      <th>0</th>\n",
       "      <td>2017-07-18</td>\n",
       "      <td>28.5</td>\n",
       "      <td>18.5</td>\n",
       "      <td>18.5</td>\n",
       "    </tr>\n",
       "    <tr>\n",
       "      <th>1</th>\n",
       "      <td>2017-07-19</td>\n",
       "      <td>29.8</td>\n",
       "      <td>19.8</td>\n",
       "      <td>38.3</td>\n",
       "    </tr>\n",
       "    <tr>\n",
       "      <th>2</th>\n",
       "      <td>2017-07-20</td>\n",
       "      <td>28.9</td>\n",
       "      <td>18.9</td>\n",
       "      <td>57.2</td>\n",
       "    </tr>\n",
       "    <tr>\n",
       "      <th>3</th>\n",
       "      <td>2017-07-21</td>\n",
       "      <td>30.5</td>\n",
       "      <td>20.5</td>\n",
       "      <td>77.7</td>\n",
       "    </tr>\n",
       "    <tr>\n",
       "      <th>4</th>\n",
       "      <td>2017-07-22</td>\n",
       "      <td>30.6</td>\n",
       "      <td>20.6</td>\n",
       "      <td>98.3</td>\n",
       "    </tr>\n",
       "  </tbody>\n",
       "</table>\n",
       "</div>"
      ],
      "text/plain": [
       "       index  Mean_T   GDD  Cum_GDD\n",
       "0 2017-07-18    28.5  18.5     18.5\n",
       "1 2017-07-19    29.8  19.8     38.3\n",
       "2 2017-07-20    28.9  18.9     57.2\n",
       "3 2017-07-21    30.5  20.5     77.7\n",
       "4 2017-07-22    30.6  20.6     98.3"
      ]
     },
     "execution_count": 16,
     "metadata": {},
     "output_type": "execute_result"
    }
   ],
   "source": [
    "dfC.head()"
   ]
  },
  {
   "cell_type": "markdown",
   "metadata": {
    "slideshow": {
     "slide_type": "slide"
    }
   },
   "source": [
    "#### Plotting results - Bokeh Library"
   ]
  },
  {
   "cell_type": "code",
   "execution_count": 20,
   "metadata": {
    "slideshow": {
     "slide_type": "-"
    }
   },
   "outputs": [],
   "source": [
    "def plotTab(df,k):\n",
    "    Date = df.index\n",
    "    GDD = df.GDD\n",
    "    Cum_GDD = df.Cum_GDD\n",
    "    source = ColumnDataSource(data=dict(GDD=GDD,Cum_GDD=Cum_GDD,\n",
    "                                        Date = pd.to_datetime(df['index'], format='%Y-%m-%d'),)\n",
    "                             )\n",
    "    source.add(df['index'].apply(lambda d: d.strftime('%Y-%m-%d')), 'date_formatted') # see line 18\n",
    "    hover = HoverTool(\n",
    "        tooltips=\"\"\"\n",
    "             <div style=\"background: #FFFFFF;\">\n",
    "                <span style=\"font-size: 20px; color: blue;\"> cumulative GDD, @Cum_GDD{int}</span><br />\n",
    "                <span style=\"font-size: 15px; color: green;\"> DATE, @date_formatted</span><br />\n",
    "            </div>\n",
    "        \"\"\")  \n",
    "    p = figure(x_axis_label='DATE', x_axis_type='datetime',y_axis_label='CUMULATIVE GDD',\n",
    "                background_fill_color='#D1D1D8',tools=[hover, 'xpan','reset','previewsave'],plot_height=470,\n",
    "                logo=None)\n",
    "    p.line(x='Date', y='Cum_GDD',source=source,line_width=2,line_color=\"blue\")\n",
    "    p.circle('Date','Cum_GDD',source=source)\n",
    "    p.xaxis.axis_label_text_font_size = \"20pt\"\n",
    "    p.yaxis.axis_label_text_font_size = \"20pt\"\n",
    "    tab = Panel(child=p, title= k)\n",
    "    return tab"
   ]
  },
  {
   "cell_type": "markdown",
   "metadata": {
    "slideshow": {
     "slide_type": "subslide"
    }
   },
   "source": [
    "## combine cumulative GDD into one plot"
   ]
  },
  {
   "cell_type": "code",
   "execution_count": 21,
   "metadata": {
    "slideshow": {
     "slide_type": "-"
    }
   },
   "outputs": [],
   "source": [
    "tab1 = plotTab(dfA,'BLOCK A');tab3 = plotTab(dfC,'BLOCK C');tab4 = plotTab(dfD,'BLOCK D')\n",
    "layout = Tabs(tabs=[tab1, tab3, tab4]) \n",
    "show (layout)"
   ]
  },
  {
   "cell_type": "markdown",
   "metadata": {
    "slideshow": {
     "slide_type": "slide"
    }
   },
   "source": [
    "<h1 style=\"font-family: Arial; font-size:2.6em;color:purple; font-style:bold; text-align: center;\"><br>\n",
    "Thank You </h1>\n",
    "*******\n",
    "   ###  github : denisDPR\n",
    "   \n",
    "   \n",
    "\n",
    "   ### twitter ; denispastoty"
   ]
  },
  {
   "cell_type": "markdown",
   "metadata": {},
   "source": [
   ]
  }
 ],
 "metadata": {
  "celltoolbar": "Slideshow",
  "kernelspec": {
   "display_name": "Python 2",
   "language": "python",
   "name": "python2"
  },
  "language_info": {
   "codemirror_mode": {
    "name": "ipython",
    "version": 2
   },
   "file_extension": ".py",
   "mimetype": "text/x-python",
   "name": "python",
   "nbconvert_exporter": "python",
   "pygments_lexer": "ipython2",
   "version": "2.7.14"
  }
 },
 "nbformat": 4,
 "nbformat_minor": 2
}
